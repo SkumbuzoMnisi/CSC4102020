{
 "cells": [
  {
   "cell_type": "markdown",
   "metadata": {},
   "source": [
    "# Nitrogen cycle\n",
    "\n",
    "[image]"
   ]
  },
  {
   "cell_type": "markdown",
   "metadata": {},
   "source": [
    "## Nitrogen fixation background\n",
    "\n",
    "Nitrogen plays a big role in a plant growth as it is part of the cholorphyll and the ammino acids which make the proteins of which the plant consists. Quite ironically, despite 79% of the air consisting of molecular nitrogen $N_{2}$ plants are unable to assimilate it due it being inert. So...for the plants to get nitrogen it has to be converted into forms that are susceptible to uptake by the plant such as Ammonium ($NH_{4}^+$) or Nitrate ($NO_3^+$) so that they can produce DNA, RNA, and proteins which are require nitrogen. This process is called nitrogen fixation and is performed by heterocysts, which are specialized nitrogen fixing cells in filamentous cyanobacteria [filamentous nitrogen bacteria](). Looking at the [image]()\n",
    "below it is evident that the formation of heterocysts inside photosynthetic cells is known as cooperation, where a symbiotic sharing of metabolic products take place. For instance: the heretocysts share the ammonia produced and the photosynthetic green cells produce and share glucose.\n",
    "\n",
    "Some cyanobacteria have a compartmentilisation strategy due to the fact that nitrogen fixation relies on an enzyme called nitrogenase which is inactivated by oxygen. Therefore, if you have photsynthesis occcuring, you cannot have nitrogen fixation occuring. Logically, the heterocysts have to create an anaerobic enviroment that is seperated from the photosynthetic cells.\n",
    "\n",
    "Nitrogen fixation as a [chemical reaction](https://www.sciencedirect.com/science/article/pii/B9780128146675000088) can be described as follow:\n",
    "\n",
    "$$ N_2 + 10H^{+} + 8e^{-} + 16MgATP  → 2NH_{3} + H_{2} + 16MgADP + 16Pi $$\n",
    "\n",
    "For the ecosystem chosen we have chosen to use a simplified nitrogen fixing model. We will assume that the growth rate of the organism [give him a name]() will be related to the uptake of glucose and nitrogen , i.e.\n",
    "$$ X_1(CH_{2}O,N_{2}) $$\n",
    "\n",
    "With $μ_{2}$ reported as $0.085 ± 0.015 h^{-1}$ and the assumption that the nitrogen fixation is the only mechanism by which the bacteria is assimilating nitrogen, the model below will be sufficient to play its part in the ecosystem.\n",
    "![X2](X2.png)\n",
    "\n"
   ]
  },
  {
   "cell_type": "code",
   "execution_count": null,
   "metadata": {},
   "outputs": [],
   "source": []
  }
 ],
 "metadata": {
  "kernelspec": {
   "display_name": "Python 3",
   "language": "python",
   "name": "python3"
  },
  "language_info": {
   "codemirror_mode": {
    "name": "ipython",
    "version": 3
   },
   "file_extension": ".py",
   "mimetype": "text/x-python",
   "name": "python",
   "nbconvert_exporter": "python",
   "pygments_lexer": "ipython3",
   "version": "3.7.3"
  }
 },
 "nbformat": 4,
 "nbformat_minor": 2
}
