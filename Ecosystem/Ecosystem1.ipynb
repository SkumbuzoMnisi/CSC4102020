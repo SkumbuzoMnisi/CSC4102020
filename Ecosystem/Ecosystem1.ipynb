{
 "cells": [
  {
   "cell_type": "markdown",
   "metadata": {},
   "source": [
    "# Introduction\n",
    "The aim of this notebook purports to illucidate the flow of nutrients through an ecosystem.\n",
    "This will be done by taking an engineering centered approach. Despite the fact that the chemistry and bacteria involved in the nitrogen cycle are well studied, there is a lot to be said regarding the mass and energy fluxes and the varying amounts of the species that influence this sensitive flows of material and energy. With the former in mind, it is the aim of this notebook to set forward a general flux model that intends to illustrate how mass and energy flows through an [ecosystem](https://www.boredpanda.com/sealed-bottle-garden-david-latimer/?utm_source=google&utm_medium=organic&utm_campaign=organic).\n",
    "\n",
    "![ecosystem](ecosystem_introduction.png)\n",
    "\n",
    "#  Approach\n",
    "\n",
    "Initially, it will be advantageous to select an aquatic ecosystem, as it hold the following advantages:\n",
    "* Uniform concentrations throughout the sample volume;\n",
    "* All the organisms can be selected carefully to be either single-celled or to possess uniform structures; and\n",
    "* The availability of data pertaining to the abovementioned microorganisms.\n",
    "\n",
    "In summary, a few of the microbes in the system will be used to produce simple flux models, which will expand both in amount and complexity over the course of the project. These flux models will result in algebraic response functions and their bio-masses will yield differential equations,all of which will be used to study the flow of nutrients through the ecosystem\n",
    "\n",
    "\n",
    "\n",
    "\n",
    "\n"
   ]
  },
  {
   "cell_type": "markdown",
   "metadata": {},
   "source": [
    "# Plant model \n",
    "\n",
    "\n",
    "\n",
    "\n",
    "\n",
    "The reactions taking place in the plant will be sperated into two diferent models, 1: Photosynthesis and 2: Growth model\n",
    "\n",
    "Photosynthesis is the process by which plants, algae, and certain bacteria (such as cyanobacteria) harnass energy from sunlight and convert it into chemical energy. During oxygenic photosynthesis light energy is captured and fascilitates the transfer of electrons from water to carbon dioxide to produce carbohydrates such as sugar. Therefore carbon dioxide is reduced and water is oxidized. Ultimately oxygen gas is produced alongside the sugar in the reaction as set out below:\n",
    "\n",
    "$$CO_{2} + H_{2}O + light → CH_{2}O + O_{2}$$\n",
    "\n",
    "In turn, the sugar produced will provide the energy to support energy production for plant growth. The proposed model for the synthesis of [biomass](https://www.researchgate.net/publication/223835531_An_overview_of_the_chemical_composition_of_biomass) can be set out as follow:\n",
    "\n",
    "$$aCH_{2}O + bO_{2} → CH_{1.5}O_{0.64}N_{0.04} + dCO_{2} + eH_{2}O  $$\n",
    "\n",
    "![Plant_Model](Plant_Modell.jpg)\n",
    "\n",
    "Lastly, for simplicity it is assumed that the plant only absorbs $NO_{3}^{-}$ as the source of nitrogen and that $NH_{4}^{+}$ and other forms of nitrogen will not be absorbed by the plant.\n",
    "\n",
    "# Nitrogen cycle\n",
    "\n",
    "\n",
    "\n",
    "\n",
    "\n",
    "There are numerous types of bacteria that play their part in the nitrogen cycle. Therefore, it was thought good to name but a few of the types of bacteria that will play a part in the ecosystem. The index of bacteria provided is by no means exhaustive and will serve to simplify the modelling of the two phase system.\n",
    "\n",
    "![index](Bacteria_Index.jpg)\n",
    "\n",
    "The nitrogen cycle can be summarised by the  diagram below. Each individual step of our model will be discussed accordingly.\n",
    "\n",
    "![index](Nitrogen_Cyclle.jpg)\n",
    "\n",
    "\n",
    "\n",
    "\n",
    "\n",
    "\n",
    "\n"
   ]
  },
  {
   "cell_type": "markdown",
   "metadata": {},
   "source": [
    "## Nitrogen fixation\n",
    "\n",
    "Nitrogen plays a big role in a plant growth as it forms part of the cholorphyll and the ammino acids which make the proteins of which the plant consists. Quite ironically, despite 79% of the air consisting of molecular nitrogen $N_{2}$ plants are unable to assimilate it due it being inert. So... for the plants to obtain nitrogen it has to be converted into forms that are susceptible to uptake by the plant such as Ammonium ($NH_{4}^+$) or Nitrate ($NO_3^{-}$) so that they can produce DNA, RNA, and proteins which are require nitrogen. This process is called nitrogen fixation and is performed by heterocysts, which are specialized nitrogen fixing cells in filamentous cyanobacteria [filamentous nitrogen bacteria](). Looking at the image below it is evident that the formation of heterocysts inside photosynthetic cells is known as cooperation, where a symbiotic sharing of metabolic products take place. For instance: the heretocysts share the ammonia produced and the photosynthetic green cells produce and share glucose.\n",
    "\n",
    "![Heterocyst](Heterocyst.jpg)\n",
    "\n",
    "Some cyanobacteria have a compartmentilisation strategy due to the fact that nitrogen fixation relies on an enzyme called nitrogenase which is inactivated by oxygen. Therefore, if you have photsynthesis occcuring, you cannot have nitrogen fixation occuring. Logically, the heterocysts have to create an anaerobic enviroment that is seperated from the photosynthetic cells so that fixation can take place.\n",
    "\n",
    "Nitrogen fixation as a [chemical reaction](https://www.sciencedirect.com/science/article/pii/B9780128146675000088) can be described as follow:\n",
    "\n",
    "$$ N_2 + 10H^{+} + 8e^{-} + 16MgATP  → 2NH_{3} + H_{2} + 16MgADP + 16Pi $$\n",
    "\n",
    "For the ecosystem chosen we have chosen to use a simplified nitrogen fixing model. We will assume that the growth rate of the nitrate fixing bacteria will be related to the uptake of glucose and nitrogen , i.e.\n",
    "$$ X(CH_{2}O,N_{2}) $$\n",
    "\n",
    "With $μ_{2}$ reported as $0.085 ± 0.015 h^{-1}$ and the assumption that the nitrogen fixation is the only mechanism by which the bacteria is assimilating nitrogen. Nitrogen uptake has reported to be between $ 0.13 - 0.17 $ $nmol$ $C_{2}H_{4}$ $.mg$ $dry$ $weight^{-1}. h^{-1}$. With these parameters known, the model below will be sufficient to play its part in the ecosystem.\n",
    "\n",
    "The following image is represents nitrogen fixation used in the model for the system.\n",
    "![X2](Nitrogen_fixating_bacteria_explainedd.jpg)\n"
   ]
  },
  {
   "cell_type": "markdown",
   "metadata": {},
   "source": [
    "# Nitrification\n",
    "\n",
    "Can be described as the microbially fascilitated two step biological process that fascilitates the  oxidation of ammonia to nitrate.Therefore, multiple types of bacteria are needed to perform the process of nitrification such as ammonia oxiding bacteria and nitrite oxidizing bacteria.\n",
    "\n",
    "In order to simplify the model, the nitrifying bacteria model will assume that the bacteria chosen will be able to do both the oxidation of ammonia to nitrite and the oxidation of nitrite to nitrate. Therefore, the initial model will be something like:\n",
    "\n",
    "![Nitrification_Steps](Nitrification_Steps.jpg) \n",
    "\n",
    "Furthermore,similar $\\mu$ values and $NH_{4}^{+}$ $/$  $NO_{2}$ uptake rates will be assumed. Subsequently, the model will assume that growth is a function of the rate of uptake of nitrogen uptake, with a reported specific growth rate:\n",
    "$$X_{3}(N-Uptake)$$\n",
    "\n",
    "Literature has confirmed that a typical biomass formula for nitrifying bacteria is in the order of $CH_{1.4}N_{0.2}O_{0.4}$.Furthermore, Nitrifying bacteria make use of $CO_{2}$ as their primary source of carbon and make use of either $NH_3$$/$$NH_{4}^{+}$ or $NO_{2}$ to produce ATP. The [overall reaction](https://www.sciencedirect.com/science/article/pii/B9780124701007500224) for the production of new biomass coupled with ammonia can be represented as follow:\n",
    "\n",
    "$$ NH_{3} + 1.83 O_{2} + 1.98 HCO_{3}^{-1}  →  0.021 C_{5}H_{7}NO_{2}\n",
    "+ 1.041 H_{2}O + 0.98 NO_{3} + 1.88 H_{2}CO_{3}$$\n",
    "\n",
    "The  physilogical parameters for nitrifying bacteria growth kinetics were obtained with a [specific growth](https://www.researchgate.net/publication/247876208_Growth_kinetic_studies_of_nitrifying_bacteria_by_the_immunofluorescent_counting_method) $\\mu_{3} = 0.81$ $day^{-1}$\n",
    "\n",
    "![Nitrification_bacteria_explained](Nitrification_bacteria_explained.jpg)\n"
   ]
  },
  {
   "cell_type": "markdown",
   "metadata": {},
   "source": [
    "## Denitrification\n",
    "\n",
    "Denitrification can be regarded as the micribially fascilitated process where nitrates are reduced to gaseous nitrogen, mostly, $N_{2}O$ and $N_{2}$. Denitrification is a response to a drop in oxygen concentration, which enables the anaerobic use of $NO_{2}$. Naturally in ecosystems this process is beneficial for the removal of nitrates. The bacterial growth model will be a function of nitrate uptake rate i.e. \n",
    "$$X(NO_{3}^{-1})$$\n",
    "\n",
    "\n",
    "\n",
    "[insertbacteria formula,parracoccus Denitrificans](https://www.sciencedirect.com/science/article/pii/S2405844018385852#bib48)\n",
    "\n",
    "\n",
    "![X3](Denitryfying_bacteria_explainedd.jpg)\n"
   ]
  },
  {
   "cell_type": "markdown",
   "metadata": {},
   "source": [
    "## [Decomposer](https://www.education.txstate.edu/ci/faculty/dickinson/PBI/PBISpring05/Lake/Content/Decomposition.htm)\n",
    "Decomposers, which include bacteria, fungi, and other microorganisms for an intricate part of the food web. Despite the fact that decomposers break down organic matter, they function as sinks for plant and animal waste where they recycle nutrients for photosynthesis. For instance, phosphorus and nitrogen are regenerated to be bio available in the forms of $PO_{4}^{-3}$ and $NH_{4}^{+}$. The proposed model chosen does not account for the flux of $CO_{2}$ through the decomposer and therefore, as can be seen from the image below, no $CO_{2}$ or $CH_{4}$. However, there has been accounted for the $O_{2}$ consumed in the system as in certain zones it might be in sparce quantities.\n",
    "\n",
    "![Decomposing_bacteria_explained](Decomposing_bacteria_explained.jpg)"
   ]
  },
  {
   "cell_type": "markdown",
   "metadata": {},
   "source": [
    "## Flow models\n",
    "\n",
    "In order to summarise the above information and the flow of elements a two way system split is proposed where the flow of carbon and nitrogen are seperated into two seperate flow models. In short $CO_{2}$ is converted by plants into carbohydrates, in turn the Nitrogen fixing bacteria consumes carbohydrates and reproduces $CO_{2}$ which is then consumed by the nitrifying, denitrifying and decomposing bacteria. THe carbon and nitrogen flow model is presented below:\n",
    "\n",
    "![Carbon_Model](Carbon_Model.jpg)\n",
    "\n",
    "## NItrogen flow model\n",
    "\n",
    "\n",
    "![Nitrogen_Modell](Nitrogen_Modell.jpg)"
   ]
  },
  {
   "cell_type": "markdown",
   "metadata": {},
   "source": [
    "# Next step\n",
    "Once preliminary models of each type organism is produced and simulated in a two phase system. Our main goal will be to improve the accuracy of these models where the inclusion of a simplified energy balance of each organisms metabolism will act as a general starting point for these improvements."
   ]
  }
 ],
 "metadata": {
  "kernelspec": {
   "display_name": "Python 3",
   "language": "python",
   "name": "python3"
  },
  "language_info": {
   "codemirror_mode": {
    "name": "ipython",
    "version": 3
   },
   "file_extension": ".py",
   "mimetype": "text/x-python",
   "name": "python",
   "nbconvert_exporter": "python",
   "pygments_lexer": "ipython3",
   "version": "3.7.3"
  }
 },
 "nbformat": 4,
 "nbformat_minor": 2
}
