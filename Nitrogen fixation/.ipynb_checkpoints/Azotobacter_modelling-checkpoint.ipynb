{
 "cells": [
  {
   "cell_type": "code",
   "execution_count": 1,
   "metadata": {},
   "outputs": [],
   "source": [
    "import numpy as np\n",
    "import scipy.integrate as sp\n",
    "import pandas\n",
    "import matplotlib.pyplot as plt"
   ]
  },
  {
   "cell_type": "markdown",
   "metadata": {},
   "source": [
    "# Importing data"
   ]
  },
  {
   "cell_type": "code",
   "execution_count": 2,
   "metadata": {},
   "outputs": [],
   "source": [
    "data_set1 = pandas.read_excel(r'C:\\Users\\Yasemin\\Documents\\University\\Honours\\CSCxBRX\\Pure_culture_data.xlsx', sheet_name = 'Bali')\n",
    "data_set2 = pandas.read_excel(r'C:\\Users\\Yasemin\\Documents\\University\\Honours\\CSCxBRX\\Pure_culture_data.xlsx', sheet_name = 'Barney')\n",
    "data_set3 = pandas.read_excel(r'C:\\Users\\Yasemin\\Documents\\University\\Honours\\CSCxBRX\\Pure_culture_data.xlsx', sheet_name = 'Brewin')\n",
    "data_set4 = pandas.read_excel(r'C:\\Users\\Yasemin\\Documents\\University\\Honours\\CSCxBRX\\Pure_culture_data.xlsx', sheet_name = 'Maria')\n",
    "data_set5 = pandas.read_excel(r'C:\\Users\\Yasemin\\Documents\\University\\Honours\\CSCxBRX\\Pure_culture_data.xlsx', sheet_name = 'Zelda 1')\n",
    "data_set6 = pandas.read_excel(r'C:\\Users\\Yasemin\\Documents\\University\\Honours\\CSCxBRX\\Pure_culture_data.xlsx', sheet_name = 'Zelda 2')"
   ]
  },
  {
   "cell_type": "markdown",
   "metadata": {},
   "source": [
    "#### NOTE: \n",
    "UNITS ARE Time in [h], Ammonia in [mmol/L], and Biomass in [cmmol/L]"
   ]
  },
  {
   "cell_type": "code",
   "execution_count": 3,
   "metadata": {},
   "outputs": [],
   "source": [
    "df1 = pandas.DataFrame(data_set1, columns=['Time','Growth (KLETTZ)','Growth (OD600)','pH','Ammonia','Biomass (cells/mL)','Sucrose (mmol/L)','Biomass (g/L)','Biomass'])\n",
    "df2 = pandas.DataFrame(data_set2, columns=['Time','Growth (OD600)','pH','Ammonia','Biomass (cells/mL)','Sucrose(mmol/L)','Biomass(g/L)','Biomass'])\n",
    "df3 = pandas.DataFrame(data_set3, columns=['Time','Growth (OD540)','pH','Ammonia','Biomass (cells/mL)','Sucrose (mmol/L)','Biomass(g/L)','Biomass'])\n",
    "df4 = pandas.DataFrame(data_set4, columns=['Time','pH','Growth(CFU)','Growth(OD660)','Biomass','NH4+(mg/g)','NH4','Sucrose(g/L)','Sucrose(mmol/L)'])\n",
    "df5 = pandas.DataFrame(data_set5, columns=['Time','OD(660 nm)','Biomass','Acetylene(nmol)','NH4','pH','Sucrose(mmol/L)'])\n",
    "df6 = pandas.DataFrame(data_set6, columns=['Time','OD(660 nm)','Biomass','Acetylene(nmol)','NH4','pH','Sucrose(mmol/L)'])"
   ]
  },
  {
   "cell_type": "code",
   "execution_count": 4,
   "metadata": {},
   "outputs": [],
   "source": [
    "t1,ph1,x1,a1 = df1.Time,df1.pH,df1.Biomass,df1.Ammonia\n",
    "t2,ph2,x2,a2 = df2.Time,df2.pH,df2.Biomass,df2.Ammonia\n",
    "t3,ph3,x3,a3 = df3.Time,df3.pH,df3.Biomass,df3.Ammonia\n",
    "t4,ph4,x4,a4 = df4.Time,df4.pH,df4.Biomass,df4.NH4\n",
    "t5,ph5,x5,a5 = df5.Time,df5.pH,df5.Biomass,df5.NH4\n",
    "t6,ph6,x6,a6 = df6.Time,df6.pH,df6.Biomass,df6.NH4"
   ]
  },
  {
   "cell_type": "markdown",
   "metadata": {},
   "source": [
    "# The model"
   ]
  },
  {
   "cell_type": "markdown",
   "metadata": {},
   "source": [
    "### Stoichiometry: \n",
    "Using a C,H,O,N balance, a basis, and an assumption, a matrix could be solved to give the microbial growth reaction (aerobic):\n",
    "- Sucrose + y O2 + x NH3 -> z X + w CO2 + v H2O"
   ]
  },
  {
   "cell_type": "markdown",
   "metadata": {},
   "source": [
    "The biological nitrogen fixation (BNF) could be described with the following equation:\n",
    "- N2 + 8 H+ -> 2 NH4+ (OR 2 NH3 + H2)\n",
    "\n",
    "Using the pH, we can find the ratio of NH3 and NH4+:\n",
    "- NH3 + H2O <-> NH4+ + OH-\n",
    "- pOH = 14 - pH = - log([OH-])\n",
    "- Kb = [OH-]*[NH4+]/[NH3]\n",
    "- Kw = KbKa\n",
    "\n",
    "Where Kw and Ka are constants."
   ]
  },
  {
   "cell_type": "code",
   "execution_count": 14,
   "metadata": {},
   "outputs": [
    {
     "data": {
      "text/plain": [
       "1.7857142857142855e-05"
      ]
     },
     "execution_count": 14,
     "metadata": {},
     "output_type": "execute_result"
    }
   ],
   "source": [
    "Ka = 5.6e-10\n",
    "Kw = 1e-14\n",
    "Kb = Kw/Ka\n",
    "Kb"
   ]
  },
  {
   "cell_type": "markdown",
   "metadata": {},
   "source": [
    "# Data set 1 \n",
    "\n",
    "- Sufficient: Bordy, Richards, Gompertz, Logistic\n",
    "- Horrible: Monod"
   ]
  },
  {
   "cell_type": "code",
   "execution_count": 71,
   "metadata": {},
   "outputs": [
    {
     "data": {
      "text/plain": [
       "(9.774436090225564, 146.14928800076126, 8.561314558243195e-09)"
      ]
     },
     "execution_count": 71,
     "metadata": {},
     "output_type": "execute_result"
    }
   ],
   "source": [
    "mu_max_monod = 0.34 #Guess in h-1 -> k\n",
    "mu_max_brody = 0.2\n",
    "mu_max_rich = 0.24\n",
    "mu_max_log = 0.5\n",
    "mu_max_gomp = 0.33\n",
    "\n",
    "Km = 0.001\n",
    "\n",
    "βmax_monod = 0.19#0.063e-2*0.16\n",
    "βmax_brody = 0.273#0.045e-2*0.27\n",
    "βmax_rich = 0.2625#0.045e-2*0.27\n",
    "βmax_log = 0.195# 0.052e-2*0.21\n",
    "βmax_gomp = 0.238 #0.05e-2*0.23\n",
    "\n",
    "α = 0.073 #x1[11]/720 #Guess the stoichiometry\n",
    "m = 0.4\n",
    "Ca1_star = 10\n",
    "\n",
    "\n",
    "A = x1[11] #Maximum carrying capacity\n",
    "\n",
    "\n",
    "\n",
    "\n",
    "def growth_function(C,t): #All experiments were done in a batch fermenter\n",
    "    Cx,Cs,Ca1 = C #Biomass, sucrose, NH4+\n",
    "    \n",
    "    #Various models: Uncomment to select\n",
    "    \n",
    "    mu1 = mu_max_monod*Cs/(Km+Cs)*(1-Ca1/Ca1_star) ##Monod\n",
    "    #mu1 = mu_max_brody*(A/Cx-1) #Brody\n",
    "    #mu1 = mu_max_rich*((A/Cx)**(1-m)-1)/(1-m) #Richards\n",
    "    #mu1 = mu_max_log*(A-Cx)/A #Logisitc\n",
    "    #mu1 = mu_max_gomp*np.log(A/Cx) #Gompertz\n",
    "    \n",
    "    \n",
    "    mu = mu1\n",
    "    \n",
    "    #Various models: Uncomment to select\n",
    "    \n",
    "    β1 = βmax_monod #Nitrogen fixation is a funtion of available biomass\n",
    "    #β1 = βmax_brody\n",
    "    #β1 = βmax_rich\n",
    "    #β1 = βmax_log\n",
    "    #β1 = βmax_gomp\n",
    "    \n",
    "    M = np.matrix([[-1,0,0,1,1,0], #C\n",
    "              [-22/12,-3,0,1.8,0,2], #H\n",
    "              [-11/12,0,-2,0.5,2,1], #O\n",
    "              [0,-1,0,0.2,0,0], #M\n",
    "              [1,0,0,0,0,0], #BASIS\n",
    "              [0,0,0,1,0,0]])  #ASSUMPTION\n",
    "    C = np.matrix([0,0,0,0,1,α]).T\n",
    "    r = np.linalg.solve(M,C)      \n",
    "    \n",
    "    if mu < 0: #No negative growth\n",
    "        mu = 0\n",
    "        \n",
    "    \n",
    "    if t < 3: #Time delay\n",
    "        mu = 0\n",
    "\n",
    "    if t<7: #Time delay\n",
    "        β1 = 0\n",
    "        \n",
    "    else:\n",
    "        mu = mu1\n",
    "        β1 = β1\n",
    "    \n",
    "    if Cs <= 1e-8:\n",
    "        dCs = 0\n",
    "        dCx = 0\n",
    "        dCa1 = 0\n",
    "        \n",
    "    else:    \n",
    "        dCx = mu*Cx #Biomass production\n",
    "        dCs = -r[0]/r[3]*mu*Cx #Glucose consumption\n",
    "        dCa1 = β1*mu*Cx #Third order reaction\n",
    "    \n",
    "    return dCx,dCs,dCa1\n",
    "\n",
    "\n",
    "C0 = [x1[0],720,a1[0]] #Sucrose in cmol\n",
    "tspan = np.linspace(0,t1[11],267)\n",
    "C = sp.odeint(growth_function, C0, tspan)\n",
    "Cx, Cs,Ca1 = C.T\n",
    "tspan[100],Cs[100],Cs[200]"
   ]
  },
  {
   "cell_type": "code",
   "execution_count": 72,
   "metadata": {},
   "outputs": [
    {
     "data": {
      "image/png": "[encoded data removed]",
      "text/plain": [
       "<Figure size 432x288 with 1 Axes>"
      ]
     },
     "metadata": {},
     "output_type": "display_data"
    }
   ],
   "source": [
    "plt.plot(tspan,Cx)#,tspan,Cs)\n",
    "plt.plot(t1,x1,'o')\n",
    "plt.plot(t1[11],x1[11],'o')\n",
    "plt.show()"
   ]
  },
  {
   "cell_type": "code",
   "execution_count": 73,
   "metadata": {},
   "outputs": [
    {
     "data": {
      "image/png": "[encoded data removed]",
      "text/plain": [
       "<Figure size 432x288 with 1 Axes>"
      ]
     },
     "metadata": {},
     "output_type": "display_data"
    }
   ],
   "source": [
    "plt.plot(t1,a1,'o')\n",
    "plt.plot(tspan,Ca1)\n",
    "plt.show()"
   ]
  },
  {
   "cell_type": "markdown",
   "metadata": {},
   "source": [
    "## Fit comparison: Cumulative error sum"
   ]
  },
  {
   "cell_type": "code",
   "execution_count": 74,
   "metadata": {},
   "outputs": [
    {
     "data": {
      "text/plain": [
       "(0.526178862413218, 0.3160657412185426)"
      ]
     },
     "execution_count": 74,
     "metadata": {},
     "output_type": "execute_result"
    }
   ],
   "source": [
    "errorsum_s = 0\n",
    "errorsum_a = 0\n",
    "for i in np.arange(0,len(t1),1):\n",
    "    for j in np.arange(0,len(tspan),1):\n",
    "        if abs(tspan[j] - t1[i]) < 0.05:\n",
    "            error_s = abs(x1[i]-Cx[j])\n",
    "            error_a = abs(a1[i]-Ca1[j])\n",
    "            \n",
    "        else:\n",
    "            error_s = 0\n",
    "            error_a = 0\n",
    "        \n",
    "    errorsum_s = errorsum_s + error_s\n",
    "    errorsum_a = errorsum_a + error_a\n",
    "    \n",
    "errorsum_s, errorsum_a"
   ]
  },
  {
   "cell_type": "markdown",
   "metadata": {},
   "source": [
    "### Ammonia concentration: Calculated using experimental data - Not used in model"
   ]
  },
  {
   "cell_type": "code",
   "execution_count": 75,
   "metadata": {},
   "outputs": [
    {
     "data": {
      "image/png": "[encoded data removed]",
      "text/plain": [
       "<Figure size 432x288 with 1 Axes>"
      ]
     },
     "metadata": {},
     "output_type": "display_data"
    }
   ],
   "source": [
    "NH3 = []\n",
    "for i in np.arange(0,len(ph1),1):\n",
    "    poh = 14 - ph1[i]\n",
    "    oh = 10**(-poh)\n",
    "    if i < 7:\n",
    "        a = 1\n",
    "    else:\n",
    "        a = a1[i]\n",
    "        \n",
    "    nh3 = Kb/(oh*a)\n",
    "    NH3.append(nh3)\n",
    "    \n",
    "plt.plot(t1,NH3,'o')\n",
    "plt.show()"
   ]
  },
  {
   "cell_type": "markdown",
   "metadata": {},
   "source": [
    "# Data set 2\n",
    "\n",
    "- Sufficient: Brody, Richards, Gompertz\n",
    "- Horrible: Monod, logistic"
   ]
  },
  {
   "cell_type": "code",
   "execution_count": 137,
   "metadata": {},
   "outputs": [],
   "source": [
    "mu_max_monod = 0.18#0.18 #Guess in h-1 -> k\n",
    "mu_max_brody = 0.05\n",
    "mu_max_rich = 0.055\n",
    "mu_max_log = 0.25\n",
    "mu_max_gomp = 0.16 #0.10\n",
    "\n",
    "Km = 0.001\n",
    "\n",
    "βmax_monod = 0.06 #0.04e-3*20/300\n",
    "βmax_brody = 0.1375 #0.022e-3*0.5*70/A\n",
    "βmax_rich = 0.128 #0.012e-3*60/A\n",
    "βmax_log = 0.06 #0.035e-3*0.35*60/A\n",
    "βmax_gomp = 0.137 #0.03e-3*0.4*60/A\n",
    "\n",
    "α = 0.39 #Stoichiometry remains the same throughout\n",
    "A = 280 #Maximum carrying capacity\n",
    "m = 0.4\n",
    "Ca1_star = 18\n",
    "\n",
    "\n",
    "def growth_function(C,t): #All experiments were done in a batch fermenter\n",
    "    Cx,Cs,Ca1 = C #Biomass, sucrose, NH4+\n",
    "    \n",
    "    #Various models\n",
    "    #mu1 = mu_max_monod*Cs/(Km+Cs)*(1-Ca1/Ca1_star) ##Monod\n",
    "    #mu1 = mu_max_brody*(A/Cx-1) #Brody\n",
    "    #mu1 = mu_max_rich*((A/Cx)**(1-m)-1)/(1-m) #Richards\n",
    "    mu1 = mu_max_log*(A-Cx)/A #Logisitc\n",
    "    #mu1 = mu_max_gomp*np.log(A/Cx) #Gompertz\n",
    "    \n",
    "    mu = mu1\n",
    "    \n",
    "    #β1 = βmax_monod #Nitrogen fixation is a funtion of available biomass\n",
    "    #β1 = βmax_brody\n",
    "    #β1 = βmax_rich\n",
    "    β1 = βmax_log\n",
    "    #β1 = βmax_gomp\n",
    "    \n",
    "    M = np.matrix([[-1,0,0,1,1,0], #C\n",
    "              [-22/12,-3,0,1.8,0,2], #H\n",
    "              [-11/12,0,-2,0.5,2,1], #O\n",
    "              [0,-1,0,0.2,0,0], #M\n",
    "              [1,0,0,0,0,0], #BASIS\n",
    "              [0,0,0,1,0,0]])  #ASSUMPTION\n",
    "    C = np.matrix([0,0,0,0,1,α]).T\n",
    "    r = np.linalg.solve(M,C)      \n",
    "    \n",
    "    if mu <=0:\n",
    "        mu = 0\n",
    "    \n",
    "    if t < 3: #time delay for growth\n",
    "        mu = 0\n",
    "\n",
    "    if t<16:\n",
    "        β1 = 0\n",
    "        \n",
    "    else:\n",
    "        mu = mu1\n",
    "        β1 = β1\n",
    "    \n",
    "    if Cs <= 0.0001:\n",
    "        dCs = 0\n",
    "        dCx = 0\n",
    "        dCa1 = 0\n",
    "    \n",
    "    else:    \n",
    "        dCx = mu*Cx #Biomass production\n",
    "        dCs = -r[0]/r[3]*mu*Cx #Glucose consumption\n",
    "        dCa1 = β1*mu*Cx#**3\n",
    "        \n",
    "    return dCx,dCs,dCa1\n",
    "\n",
    "\n",
    "C0 = [x2[0],720,a2[0]] #Sucrose in cmol\n",
    "tspan = np.linspace(0,t2[12],961)\n",
    "C = sp.odeint(growth_function, C0, tspan)\n",
    "Cx, Cs,Ca1 = C.T"
   ]
  },
  {
   "cell_type": "code",
   "execution_count": 138,
   "metadata": {},
   "outputs": [
    {
     "data": {
      "image/png": "[encoded data removed]",
      "text/plain": [
       "<Figure size 432x288 with 1 Axes>"
      ]
     },
     "metadata": {},
     "output_type": "display_data"
    }
   ],
   "source": [
    "plt.plot(tspan,Cx)#,tspan,Cs)\n",
    "plt.plot(t2,x2,'o')\n",
    "plt.plot(t2[12],x2[12],'o')\n",
    "plt.show()"
   ]
  },
  {
   "cell_type": "code",
   "execution_count": 139,
   "metadata": {},
   "outputs": [
    {
     "data": {
      "image/png": "[encoded data removed]",
      "text/plain": [
       "<Figure size 432x288 with 1 Axes>"
      ]
     },
     "metadata": {},
     "output_type": "display_data"
    }
   ],
   "source": [
    "plt.plot(t2,a2,'o')\n",
    "plt.plot(tspan,Ca1)\n",
    "plt.show()"
   ]
  },
  {
   "cell_type": "code",
   "execution_count": 140,
   "metadata": {},
   "outputs": [
    {
     "data": {
      "text/plain": [
       "(1.3902505814368737, 4.03616959203025)"
      ]
     },
     "execution_count": 140,
     "metadata": {},
     "output_type": "execute_result"
    }
   ],
   "source": [
    "errorsum_s = 0\n",
    "errorsum_a = 0\n",
    "for i in np.arange(0,len(t2),1):\n",
    "    for j in np.arange(0,len(tspan),1):\n",
    "        if abs(tspan[j] - t2[i]) < 0.05:\n",
    "            error_s = abs(x2[i]-Cx[j])\n",
    "            error_a = abs(a2[i]-Ca1[j])\n",
    "            \n",
    "        else:\n",
    "            error_s = 0\n",
    "            error_a = 0\n",
    "        \n",
    "    errorsum_s = errorsum_s + error_s\n",
    "    errorsum_a = errorsum_a + error_a\n",
    "    \n",
    "errorsum_s, errorsum_a"
   ]
  },
  {
   "cell_type": "markdown",
   "metadata": {},
   "source": [
    "### Ammonia concentrations: Calculated from experimental data - Not used in model"
   ]
  },
  {
   "cell_type": "code",
   "execution_count": 481,
   "metadata": {},
   "outputs": [
    {
     "data": {
      "image/png": "[encoded data removed]",
      "text/plain": [
       "<Figure size 432x288 with 1 Axes>"
      ]
     },
     "metadata": {},
     "output_type": "display_data"
    }
   ],
   "source": [
    "NH3_2 = []\n",
    "for i in np.arange(0,len(ph2),1):\n",
    "    poh = 14 - ph2[i]\n",
    "    oh = 10**(-poh)\n",
    "    if i < 7:\n",
    "        a = 1\n",
    "    else:\n",
    "        a = a2[i]\n",
    "        \n",
    "    nh3 = Kb/(oh*a)\n",
    "    NH3_2.append(nh3)\n",
    "    \n",
    "plt.plot(t2,NH3_2,'o')\n",
    "plt.show()"
   ]
  },
  {
   "cell_type": "markdown",
   "metadata": {},
   "source": [
    "# Data set 3:\n",
    "- Sufficient: Logistic, Gompertz, Monod\n",
    "- Horrible: Rich, Brody"
   ]
  },
  {
   "cell_type": "code",
   "execution_count": 167,
   "metadata": {},
   "outputs": [],
   "source": [
    "mu_max_monod = 0.22 #Guess in h-1 -> k\n",
    "mu_max_brody = 0.04\n",
    "mu_max_rich = 0.05\n",
    "mu_max_log = 0.26\n",
    "mu_max_gomp = 0.1\n",
    "\n",
    "Km = 0.1\n",
    "\n",
    "βmax_monod = 0.045#0.011e-3*0.15\n",
    "βmax_brody = 0.1#0.018e-3*0.2\n",
    "βmax_rich = 0.08#0.016e-3*0.2\n",
    "βmax_log = 0.044#0.01e-3*0.22\n",
    "βmax_gomp = 0.066#0.012e-3*0.22\n",
    "\n",
    "α = 0.35 #x1[11]/720 #Guess the stoichiometry\n",
    "m = 0.4\n",
    "Ca1_star = 10\n",
    "\n",
    "\n",
    "A = x3[11] #Maximum carrying capacity\n",
    "\n",
    "\n",
    "def growth_function(C,t): #All experiments were done in a batch fermenter\n",
    "    Cx,Cs,Ca1 = C #Biomass, sucrose, NH4+\n",
    "    \n",
    "    #Various models: Uncomment to select\n",
    "    \n",
    "    #mu1 = mu_max_monod*Cs/(Km+Cs)*(1-Ca1/Ca1_star) ##Monod\n",
    "    #mu1 = mu_max_brody*(A/Cx-1) #Brody\n",
    "    mu1 = mu_max_rich*((A/Cx)**(1-m)-1)/(1-m) #Richards\n",
    "    #mu1 = mu_max_log*(A-Cx)/A #Logisitc\n",
    "    #mu1 = mu_max_gomp*np.log(A/Cx) #Gompertz\n",
    "    \n",
    "    \n",
    "    mu = mu1\n",
    "    \n",
    "    #Various models: Uncomment to select\n",
    "    \n",
    "    #β1 = βmax_monod #Nitrogen fixation is a funtion of available biomass\n",
    "    #β1 = βmax_brody\n",
    "    β1 = βmax_rich\n",
    "    #β1 = βmax_log\n",
    "    #β1 = βmax_gomp\n",
    "    \n",
    "    M = np.matrix([[-1,0,0,1,1,0], #C\n",
    "              [-22/12,-3,0,1.8,0,2], #H\n",
    "              [-11/12,0,-2,0.5,2,1], #O\n",
    "              [0,-1,0,0.2,0,0], #M\n",
    "              [1,0,0,0,0,0], #BASIS\n",
    "              [0,0,0,1,0,0]])  #ASSUMPTION\n",
    "    C = np.matrix([0,0,0,0,1,α]).T\n",
    "    r = np.linalg.solve(M,C)      \n",
    "    \n",
    "    if mu < 0: #No negative growth\n",
    "        mu = 0\n",
    "        \n",
    "    \n",
    "    if t < 1: #Time delay\n",
    "        mu = 0\n",
    "\n",
    "    if t<18: #Time delay\n",
    "        β1 = 0\n",
    "        \n",
    "    else:\n",
    "        mu = mu1\n",
    "        β1 = β1\n",
    "    \n",
    "    if Cs <= 1e-8:\n",
    "        dCs = 0\n",
    "        dCx = 0\n",
    "        dCa1 = 0\n",
    "        \n",
    "    else:    \n",
    "        dCx = mu*Cx #Biomass production\n",
    "        dCs = -r[0]/r[3]*mu*Cx #Glucose consumption\n",
    "        dCa1 = β1*mu*Cx#**3 #Third order reaction\n",
    "    \n",
    "    return dCx,dCs,dCa1\n",
    "\n",
    "\n",
    "C0 = [x3[0],720,a3[0]] #Sucrose in cmol\n",
    "tspan = np.linspace(0,t3[13],271)\n",
    "C = sp.odeint(growth_function, C0, tspan)\n",
    "Cx, Cs,Ca1 = C.T"
   ]
  },
  {
   "cell_type": "code",
   "execution_count": 168,
   "metadata": {},
   "outputs": [
    {
     "data": {
      "image/png": "[encoded data removed]",
      "text/plain": [
       "<Figure size 432x288 with 1 Axes>"
      ]
     },
     "metadata": {},
     "output_type": "display_data"
    }
   ],
   "source": [
    "plt.plot(tspan,Cx)#,tspan,Cs)\n",
    "plt.plot(t3,x3,'o')\n",
    "plt.plot(t3[13],x3[13],'o')\n",
    "plt.show()"
   ]
  },
  {
   "cell_type": "code",
   "execution_count": 169,
   "metadata": {},
   "outputs": [
    {
     "data": {
      "image/png": "[encoded data removed]",
      "text/plain": [
       "<Figure size 432x288 with 1 Axes>"
      ]
     },
     "metadata": {},
     "output_type": "display_data"
    }
   ],
   "source": [
    "plt.plot(t3,a3,'o')\n",
    "plt.plot(tspan,Ca1)\n",
    "plt.show()"
   ]
  },
  {
   "cell_type": "code",
   "execution_count": 170,
   "metadata": {},
   "outputs": [
    {
     "data": {
      "text/plain": [
       "(11.037433455647488, 2.4588641547560837)"
      ]
     },
     "execution_count": 170,
     "metadata": {},
     "output_type": "execute_result"
    }
   ],
   "source": [
    "errorsum_s = 0\n",
    "errorsum_a = 0\n",
    "for i in np.arange(0,len(t3),1):\n",
    "    for j in np.arange(0,len(tspan),1):\n",
    "        if abs(tspan[j] - t3[i]) < 0.05:\n",
    "            error_s = abs(x3[i]-Cx[j])\n",
    "            error_a = abs(a3[i]-Ca1[j])\n",
    "            \n",
    "        else:\n",
    "            error_s = 0\n",
    "            error_a = 0\n",
    "        \n",
    "    errorsum_s = errorsum_s + error_s\n",
    "    errorsum_a = errorsum_a + error_a\n",
    "    \n",
    "errorsum_s, errorsum_a"
   ]
  },
  {
   "cell_type": "markdown",
   "metadata": {},
   "source": [
    "### Ammonia concentrations: Calculated from experimental data - Not used in model"
   ]
  },
  {
   "cell_type": "code",
   "execution_count": 486,
   "metadata": {},
   "outputs": [
    {
     "data": {
      "image/png": "[encoded data removed]",
      "text/plain": [
       "<Figure size 432x288 with 1 Axes>"
      ]
     },
     "metadata": {},
     "output_type": "display_data"
    }
   ],
   "source": [
    "NH3_3 = []\n",
    "for i in np.arange(0,len(ph3),1):\n",
    "    poh = 14 - ph3[i]\n",
    "    oh = 10**(-poh)\n",
    "    if i < 7:\n",
    "        a = 1\n",
    "    else:\n",
    "        a = a3[i]\n",
    "        \n",
    "    nh3 = Kb/(oh*a)\n",
    "    NH3_3.append(nh3)\n",
    "    \n",
    "plt.plot(t3,NH3_3,'o')\n",
    "plt.show()"
   ]
  },
  {
   "cell_type": "markdown",
   "metadata": {},
   "source": [
    "# Data set 4: Maria"
   ]
  },
  {
   "cell_type": "code",
   "execution_count": 171,
   "metadata": {},
   "outputs": [
    {
     "data": {
      "text/plain": [
       "(0.009271944444444444, 6.6758)"
      ]
     },
     "execution_count": 171,
     "metadata": {},
     "output_type": "execute_result"
    }
   ],
   "source": [
    "mu_max_monod = 0.04 #Guess in h-1 -> k\n",
    "mu_max_brody = 0.04\n",
    "mu_max_rich = 0.045\n",
    "mu_max_log = 0.07\n",
    "mu_max_gomp = 0.045\n",
    "\n",
    "Km = 0.001\n",
    "\n",
    "A = x4[5] #Maximum carrying capacity\n",
    "\n",
    "βmax_monod = 15\n",
    "βmax_brody = 20\n",
    "βmax_rich = 20\n",
    "βmax_log = 20\n",
    "βmax_gomp = 20\n",
    "\n",
    "α = x4[5]/720 #Stoichiometry remains the same throughout\n",
    "\n",
    "m = 0.4\n",
    "Ca1_star = 2000\n",
    "\n",
    "\n",
    "def growth_function(C,t): #All experiments were done in a batch fermenter\n",
    "    Cx,Cs,Ca1 = C #Biomass, sucrose, NH4+\n",
    "    \n",
    "    #Various models\n",
    "    #mu1 = mu_max_monod*Cs/(Km+Cs)*(1-Ca1/Ca1_star) ##Monod\n",
    "    #mu1 = mu_max_brody*(A/Cx-1) #Brody\n",
    "    #mu1 = mu_max_rich*((A/Cx)**(1-m)-1)/(1-m) #Richards\n",
    "    #mu1 = mu_max_log*(A-Cx)/A #Logisitc\n",
    "    mu1 = mu_max_gomp*np.log(A/Cx) #Gompertz\n",
    "    \n",
    "    mu = mu1\n",
    "    \n",
    "    #β1 = βmax_monod #Nitrogen fixation is a funtion of available biomass\n",
    "    #β1 = βmax_brody\n",
    "    #β1 = βmax_rich\n",
    "    #β1 = βmax_log\n",
    "    β1 = βmax_gomp\n",
    "    \n",
    "    M = np.matrix([[-1,0,0,1,1,0], #C\n",
    "              [-22/12,-3,0,1.8,0,2], #H\n",
    "              [-11/12,0,-2,0.5,2,1], #O\n",
    "              [0,-1,0,0.2,0,0], #M\n",
    "              [1,0,0,0,0,0], #BASIS\n",
    "              [0,0,0,1,0,0]])  #ASSUMPTION\n",
    "    C = np.matrix([0,0,0,0,1,α]).T\n",
    "    r = np.linalg.solve(M,C)      \n",
    "    \n",
    "    if mu <=0:\n",
    "        mu = 0\n",
    "\n",
    "    else:\n",
    "        mu = mu1\n",
    "        β1 = β1\n",
    "    \n",
    "    if Cs <= 0.0001:\n",
    "        dCs = 0\n",
    "        dCx = 0\n",
    "        dCa1 = 0\n",
    "    \n",
    "    else:    \n",
    "        dCx = mu*Cx #Biomass production\n",
    "        dCs = -r[0]/r[3]*mu*Cx #Glucose consumption\n",
    "        dCa1 = β1*mu*Cx**3\n",
    "        \n",
    "    return dCx,dCs,dCa1\n",
    "\n",
    "\n",
    "C0 = [x4[0],720,a4[0]] #Sucrose in cmol\n",
    "tspan = np.linspace(0,t4[5],61)\n",
    "C = sp.odeint(growth_function, C0, tspan)\n",
    "Cx, Cs,Ca1 = C.T\n",
    "α, A"
   ]
  },
  {
   "cell_type": "code",
   "execution_count": 505,
   "metadata": {},
   "outputs": [
    {
     "data": {
      "image/png": "[encoded data removed]",
      "text/plain": [
       "<Figure size 432x288 with 1 Axes>"
      ]
     },
     "metadata": {},
     "output_type": "display_data"
    }
   ],
   "source": [
    "plt.plot(tspan,Cx)#,tspan,Cs)\n",
    "plt.plot(t4,x4,'o')\n",
    "plt.plot(t4[5],x4[5],'o')\n",
    "plt.show()"
   ]
  },
  {
   "cell_type": "code",
   "execution_count": 506,
   "metadata": {},
   "outputs": [
    {
     "data": {
      "image/png": "[encoded data removed]",
      "text/plain": [
       "<Figure size 432x288 with 1 Axes>"
      ]
     },
     "metadata": {},
     "output_type": "display_data"
    }
   ],
   "source": [
    "plt.plot(t4[0],a4[0],'o',color='b')\n",
    "plt.plot(t4[2],a4[2],'o',color='b')\n",
    "plt.plot(t4[5],a4[5],'o',color='b')\n",
    "plt.plot(tspan,Ca1)\n",
    "plt.show()"
   ]
  },
  {
   "cell_type": "code",
   "execution_count": 507,
   "metadata": {},
   "outputs": [
    {
     "data": {
      "text/plain": [
       "(0.7505624227060128, 2.173666639306475)"
      ]
     },
     "execution_count": 507,
     "metadata": {},
     "output_type": "execute_result"
    }
   ],
   "source": [
    "errorsum_s = 0\n",
    "errorsum_a = 0\n",
    "\n",
    "for i in np.arange(0,len(t4),1):\n",
    "    for j in np.arange(0,len(tspan),1):\n",
    "        if abs(tspan[j] - t4[i]) < 0.05:\n",
    "            error_s = abs(x4[i]-Cx[j])\n",
    "            \n",
    "        else:\n",
    "            error_s = 0\n",
    "          \n",
    "        \n",
    "    errorsum_s = errorsum_s + error_s\n",
    "    \n",
    "\n",
    "for i in np.arange(0,len(t4),1):\n",
    "    for j in np.arange(0,len(tspan),1):\n",
    "        if t4[i] == 0 and abs(tspan[j]-t4[i])<0.005:\n",
    "            error_a = abs(a4[i]-Ca1[j])\n",
    "        if t4[i] == 24 and abs(tspan[j]-t4[i])<0.005:\n",
    "            error_a = abs(a4[i]-Ca1[j])\n",
    "        if t4[i] == 60 and abs(tspan[j]-t4[i])<0.005:\n",
    "            error_a = abs(a4[i]-Ca1[j])\n",
    "            \n",
    "        else:\n",
    "            error_a = 0\n",
    "\n",
    "    errorsum_a = errorsum_a + error_a\n",
    "\n",
    "errorsum_s, errorsum_a"
   ]
  },
  {
   "cell_type": "markdown",
   "metadata": {},
   "source": [
    "### Ammonia concentrations: Calculated from experimental data - Not used in model"
   ]
  },
  {
   "cell_type": "code",
   "execution_count": 508,
   "metadata": {},
   "outputs": [
    {
     "data": {
      "image/png": "[encoded data removed]",
      "text/plain": [
       "<Figure size 432x288 with 1 Axes>"
      ]
     },
     "metadata": {},
     "output_type": "display_data"
    }
   ],
   "source": [
    "NH3_4 = []\n",
    "for i in np.arange(0,len(ph4),1):\n",
    "    poh = 14 - ph4[i]\n",
    "    oh = 10**(-poh)\n",
    "    if a4[i] == 0:\n",
    "        NH3_4.append(0)\n",
    "    else:\n",
    "        a = a4[i]\n",
    "        \n",
    "    nh3 = Kb/(oh*a)\n",
    "    NH3_4.append(nh3)\n",
    "    \n",
    "plt.plot(t4[0],NH3_4[0],'o',color='k')\n",
    "plt.plot(t4[1],NH3_4[1],'o',color='k')\n",
    "plt.plot(t4[4],NH3_4[4],'o',color='k')\n",
    "plt.show()"
   ]
  },
  {
   "cell_type": "markdown",
   "metadata": {},
   "source": [
    "# Data set 5: Zelda 1"
   ]
  },
  {
   "cell_type": "code",
   "execution_count": 222,
   "metadata": {},
   "outputs": [],
   "source": [
    "mu_max_monod = 0.02 #Guess in h-1 -> k\n",
    "mu_max_brody = 0.025\n",
    "mu_max_rich = 0.02\n",
    "mu_max_log = 0.04\n",
    "mu_max_gomp = 0.025\n",
    "\n",
    "Km = 0.1\n",
    "\n",
    "βmax_monod = 4e3#6e4\n",
    "βmax_brody = 5e3#9e4\n",
    "βmax_rich = 5e3#9e4\n",
    "βmax_log = 5e3#9e4\n",
    "βmax_gomp = 5e3#9e4\n",
    "\n",
    "α = x5[10]/720 #Guess the stoichiometry\n",
    "m = 0.4\n",
    "Ca1_star = 1200\n",
    "\n",
    "\n",
    "A = x5[10] #Maximum carrying capacity\n",
    "\n",
    "\n",
    "def growth_function(C,t): #All experiments were done in a batch fermenter\n",
    "    Cx,Cs,Ca1 = C #Biomass, sucrose, NH4+\n",
    "    \n",
    "    #Various models: Uncomment to select\n",
    "    \n",
    "    #mu1 = mu_max_monod*Cs/(Km+Cs)*(1-Ca1/Ca1_star) ##Monod\n",
    "    #mu1 = mu_max_brody*(A/Cx-1) #Brody\n",
    "    #mu1 = mu_max_rich*((A/Cx)**(1-m)-1)/(1-m) #Richards\n",
    "    #mu1 = mu_max_log*(A-Cx)/A #Logisitc\n",
    "    mu1 = mu_max_gomp*np.log(A/Cx) #Gompertz\n",
    "    \n",
    "    \n",
    "    mu = mu1\n",
    "    \n",
    "    #Various models: Uncomment to select\n",
    "    \n",
    "    #β1 = βmax_monod #Nitrogen fixation is a funtion of available biomass\n",
    "    #β1 = βmax_brody\n",
    "    #β1 = βmax_rich\n",
    "    #β1 = βmax_log\n",
    "    β1 = βmax_gomp\n",
    "    \n",
    "    M = np.matrix([[-1,0,0,1,1,0], #C\n",
    "              [-22/12,-3,0,1.8,0,2], #H\n",
    "              [-11/12,0,-2,0.5,2,1], #O\n",
    "              [0,-1,0,0.2,0,0], #M\n",
    "              [1,0,0,0,0,0], #BASIS\n",
    "              [0,0,0,1,0,0]])  #ASSUMPTION\n",
    "    C = np.matrix([0,0,0,0,1,α]).T\n",
    "    r = np.linalg.solve(M,C)      \n",
    "    \n",
    "    if mu < 0: #No negative growth\n",
    "        mu = 0\n",
    "        \n",
    "    \n",
    "    if t < 40: #Time delay\n",
    "        mu = 0\n",
    "\n",
    "        \n",
    "    else:\n",
    "        mu = mu1\n",
    "        β1 = β1\n",
    "    \n",
    "    if Cs <= 1e-8:\n",
    "        dCs = 0\n",
    "        dCx = 0\n",
    "        dCa1 = 0\n",
    "        \n",
    "    else:    \n",
    "        dCx = mu*Cx #Biomass production\n",
    "        dCs = -r[0]/r[3]*mu*Cx #Glucose consumption\n",
    "        dCa1 = β1*mu*Cx#**3 #Third order reaction\n",
    "    \n",
    "    return dCx,dCs,dCa1\n",
    "\n",
    "\n",
    "C0 = [x5[0],720,a5[0]] #Sucrose in cmol\n",
    "tspan = np.linspace(0,t5[11],301)\n",
    "C = sp.odeint(growth_function, C0, tspan)\n",
    "Cx, Cs,Ca1 = C.T"
   ]
  },
  {
   "cell_type": "code",
   "execution_count": 223,
   "metadata": {},
   "outputs": [
    {
     "data": {
      "image/png": "[encoded data removed]",
      "text/plain": [
       "<Figure size 432x288 with 1 Axes>"
      ]
     },
     "metadata": {},
     "output_type": "display_data"
    }
   ],
   "source": [
    "plt.plot(tspan,Cx)#,tspan,Cs)\n",
    "plt.plot(t5,x5,'o')\n",
    "plt.plot(t5[11],x5[11],'o')\n",
    "plt.show()"
   ]
  },
  {
   "cell_type": "code",
   "execution_count": 224,
   "metadata": {},
   "outputs": [
    {
     "data": {
      "image/png": "[encoded data removed]",
      "text/plain": [
       "<Figure size 432x288 with 1 Axes>"
      ]
     },
     "metadata": {},
     "output_type": "display_data"
    }
   ],
   "source": [
    "plt.plot(tspan,Ca1)#,tspan,Cs)\n",
    "plt.plot(t6,a6,'o')\n",
    "plt.show()"
   ]
  },
  {
   "cell_type": "code",
   "execution_count": 225,
   "metadata": {},
   "outputs": [
    {
     "data": {
      "text/plain": [
       "(0.03611090531862432, 390.9545265931172)"
      ]
     },
     "execution_count": 225,
     "metadata": {},
     "output_type": "execute_result"
    }
   ],
   "source": [
    "errorsum_s = 0\n",
    "errorsum_a = 0\n",
    "for i in np.arange(0,len(t5),1):\n",
    "    for j in np.arange(0,len(tspan),1):\n",
    "        if abs(tspan[j] - t5[i]) < 0.05:\n",
    "            error_s = abs(x5[i]-Cx[j])\n",
    "            error_a = abs(a5[i]-Ca1[j])\n",
    "            \n",
    "        else:\n",
    "            error_s = 0\n",
    "            error_a = 0\n",
    "        \n",
    "    errorsum_s = errorsum_s + error_s\n",
    "    errorsum_a = errorsum_a + error_a\n",
    "    \n",
    "errorsum_s, errorsum_a"
   ]
  },
  {
   "cell_type": "markdown",
   "metadata": {},
   "source": [
    "### Ammonia concentrations: Calculated from experimental data - Not used in model"
   ]
  },
  {
   "cell_type": "code",
   "execution_count": 513,
   "metadata": {},
   "outputs": [
    {
     "data": {
      "image/png": "[encoded data removed]",
      "text/plain": [
       "<Figure size 432x288 with 1 Axes>"
      ]
     },
     "metadata": {},
     "output_type": "display_data"
    }
   ],
   "source": [
    "NH3_5 = []\n",
    "for i in np.arange(0,len(ph5),1):\n",
    "    poh = 14 - ph5[i]\n",
    "    oh = 10**(-poh)\n",
    "    if i < 7:\n",
    "        a = 1\n",
    "    else:\n",
    "        a = a5[i]\n",
    "        \n",
    "    nh3 = Kb/(oh*a)\n",
    "    NH3_5.append(nh3)\n",
    "    \n",
    "plt.plot(t5,NH3_5,'o')\n",
    "plt.show()"
   ]
  },
  {
   "cell_type": "markdown",
   "metadata": {},
   "source": [
    "# Data set 6: Zelda 2"
   ]
  },
  {
   "cell_type": "code",
   "execution_count": 97,
   "metadata": {},
   "outputs": [
    {
     "data": {
      "text/plain": [
       "(0.0004631444444444445, 0.40492)"
      ]
     },
     "execution_count": 97,
     "metadata": {},
     "output_type": "execute_result"
    }
   ],
   "source": [
    "#Take out cell death\n",
    "mu_max_monod = 0.03#0.02 #Guess in h-1 -> k\n",
    "mu_max_brody = 0.02\n",
    "mu_max_rich = 0.02\n",
    "mu_max_log = 0.04\n",
    "mu_max_gomp = 0.025\n",
    "\n",
    "Km = 0.1\n",
    "\n",
    "βmax_monod = 2e3#5e3#5e4\n",
    "βmax_brody = 2e3#4e3#6e4\n",
    "βmax_rich =  2e3#4e3#6e4\n",
    "βmax_log = 2.5e3#4e3#6e4\n",
    "βmax_gomp = 2.5e3#4e3#6e4\n",
    "\n",
    "α = x6[9]/720 #Guess the stoichiometry\n",
    "m = 0.4\n",
    "Ca1_star = 800\n",
    "\n",
    "\n",
    "A = max(x6)#x6[8] #Maximum carrying capacity\n",
    "\n",
    "\n",
    "def growth_function(C,t): #All experiments were done in a batch fermenter\n",
    "    Cx,Cs,Ca1 = C #Biomass, sucrose, NH4+\n",
    "    \n",
    "    #Various models: Uncomment to select\n",
    "    \n",
    "    #mu1 = mu_max_monod*Cs/(Km+Cs)*(1-Ca1/Ca1_star) ##Monod\n",
    "    #mu1 = mu_max_brody*(A/Cx-1) #Brody\n",
    "    #mu1 = mu_max_rich*((A/Cx)**(1-m)-1)/(1-m) #Richards\n",
    "    #mu1 = mu_max_log*(A-Cx)/A #Logisitc\n",
    "    mu1 = mu_max_gomp*np.log(A/Cx) #Gompertz\n",
    "    \n",
    "    \n",
    "    mu = mu1\n",
    "    \n",
    "    #Various models: Uncomment to select\n",
    "    \n",
    "    #β1 = βmax_monod #Nitrogen fixation is a funtion of available biomass\n",
    "    #β1 = βmax_brody\n",
    "    #β1 = βmax_rich\n",
    "    #β1 = βmax_log\n",
    "    β1 = βmax_gomp\n",
    "    \n",
    "    M = np.matrix([[-1,0,0,1,1,0], #C\n",
    "              [-22/12,-3,0,1.8,0,2], #H\n",
    "              [-11/12,0,-2,0.5,2,1], #O\n",
    "              [0,-1,0,0.2,0,0], #M\n",
    "              [1,0,0,0,0,0], #BASIS\n",
    "              [0,0,0,1,0,0]])  #ASSUMPTION\n",
    "    C = np.matrix([0,0,0,0,1,α]).T\n",
    "    r = np.linalg.solve(M,C)      \n",
    "    \n",
    "    if mu < 0: #No negative growth\n",
    "        mu = 0\n",
    "        \n",
    "    \n",
    "    if t < 50: #Time delay\n",
    "        mu = 0\n",
    "\n",
    "        \n",
    "    else:\n",
    "        mu = mu1\n",
    "        β1 = β1\n",
    "    \n",
    "    if Cs <= 1e-8:\n",
    "        dCs = 0\n",
    "        dCx = 0\n",
    "        dCa1 = 0\n",
    "        \n",
    "    else:    \n",
    "        dCx = mu*Cx #Biomass production\n",
    "        dCs = -r[0]/r[3]*mu*Cx #Glucose consumption\n",
    "        dCa1 = β1*mu*Cx#**3 #Third order reaction\n",
    "    \n",
    "    return dCx,dCs,dCa1\n",
    "\n",
    "\n",
    "C0 = [x6[0],720,a6[0]] #Sucrose in cmol\n",
    "tspan = np.linspace(0,t6[11],301)\n",
    "C = sp.odeint(growth_function, C0, tspan)\n",
    "Cx, Cs,Ca1 = C.T\n",
    "α,A"
   ]
  },
  {
   "cell_type": "code",
   "execution_count": 98,
   "metadata": {},
   "outputs": [
    {
     "data": {
      "image/png": "[encoded data removed]",
      "text/plain": [
       "<Figure size 432x288 with 1 Axes>"
      ]
     },
     "metadata": {},
     "output_type": "display_data"
    }
   ],
   "source": [
    "plt.plot(tspan,Cx)#,tspan,Cs)\n",
    "plt.plot(t6,x6,'o')\n",
    "plt.plot(t6[11],x6[11],'o')\n",
    "plt.show()"
   ]
  },
  {
   "cell_type": "code",
   "execution_count": 99,
   "metadata": {},
   "outputs": [
    {
     "data": {
      "image/png": "[encoded data removed]",
      "text/plain": [
       "<Figure size 432x288 with 1 Axes>"
      ]
     },
     "metadata": {},
     "output_type": "display_data"
    }
   ],
   "source": [
    "plt.plot(tspan,Ca1)#,tspan,Cs)\n",
    "plt.plot(t6,a6,'o')\n",
    "plt.show()"
   ]
  },
  {
   "cell_type": "code",
   "execution_count": 100,
   "metadata": {},
   "outputs": [
    {
     "data": {
      "text/plain": [
       "(0.11605441926597031, 589.3839518350732)"
      ]
     },
     "execution_count": 100,
     "metadata": {},
     "output_type": "execute_result"
    }
   ],
   "source": [
    "errorsum_s = 0\n",
    "errorsum_a = 0\n",
    "for i in np.arange(0,len(t6)-4,1):\n",
    "    for j in np.arange(0,len(tspan),1):\n",
    "        if abs(tspan[j] - t6[i]) < 0.05:\n",
    "            error_s = abs(x6[i]-Cx[j])\n",
    "            error_a = abs(a6[i]-Ca1[j])\n",
    "            errorsum_s = errorsum_s + error_s\n",
    "            errorsum_a = errorsum_a + error_a\n",
    "            \n",
    "        else:\n",
    "            error_s = 0\n",
    "            error_a = 0\n",
    "            errorsum_s = errorsum_s + error_s\n",
    "            errorsum_a = errorsum_a + error_a\n",
    "\n",
    "    \n",
    "errorsum_s, errorsum_a"
   ]
  },
  {
   "cell_type": "markdown",
   "metadata": {},
   "source": [
    "### Ammonia concentrations: Calculated from experimental data - Not used in model"
   ]
  },
  {
   "cell_type": "code",
   "execution_count": 220,
   "metadata": {},
   "outputs": [
    {
     "data": {
      "image/png": "[encoded data removed]",
      "text/plain": [
       "<Figure size 432x288 with 1 Axes>"
      ]
     },
     "metadata": {},
     "output_type": "display_data"
    }
   ],
   "source": [
    "NH3_6 = []\n",
    "for i in np.arange(0,len(ph6),1):\n",
    "    poh = 14 - ph6[i]\n",
    "    oh = 10**(-poh)\n",
    "    if i < 7:\n",
    "        a = 1\n",
    "    else:\n",
    "        a = a6[i]\n",
    "        \n",
    "    nh3 = Kb/(oh*a)\n",
    "    NH3_6.append(nh3)\n",
    "    \n",
    "plt.plot(t6,NH3_6,'o')\n",
    "plt.show()"
   ]
  },
  {
   "cell_type": "markdown",
   "metadata": {},
   "source": [
    "# Consotria: Experimental data"
   ]
  },
  {
   "cell_type": "markdown",
   "metadata": {},
   "source": [
    "# Maria: Run 3 - samples 1-6"
   ]
  },
  {
   "cell_type": "code",
   "execution_count": 2,
   "metadata": {},
   "outputs": [],
   "source": [
    "data_M = pandas.read_excel(r'C:\\Users\\Yasemin\\Documents\\University\\Honours\\CSCxBRX\\Consortia_data.xlsx', sheet_name = 'Maria_exp')\n",
    "dfM = pandas.DataFrame(data_M, columns=['Time','pH1','A1','B1','G1','pH2','A2','B2','G2','pH3','A3','B3','G3','pH4','A4','B4','G4','pH5','A5','B5','G5','pH6','A6','B6','G6'])"
   ]
  },
  {
   "cell_type": "code",
   "execution_count": 3,
   "metadata": {},
   "outputs": [],
   "source": [
    "t1m,ph1m,x1m,g1m = dfM.Time,dfM.pH1,dfM.B1,dfM.G1\n",
    "t2m,ph2m,x2m,g2m = dfM.Time,dfM.pH2,dfM.B2,dfM.G2\n",
    "t3m,ph3m,x3m,g3m = dfM.Time,dfM.pH3,dfM.B3,dfM.G3\n",
    "t4m,ph4m,x4m,g4m = dfM.Time,dfM.pH4,dfM.B4,dfM.G4\n",
    "t5m,ph5m,x5m,g5m = dfM.Time,dfM.pH5,dfM.B5,dfM.G5\n",
    "t6m,ph6m,x6m,g6m = dfM.Time,dfM.pH6,dfM.B6,dfM.G6"
   ]
  },
  {
   "cell_type": "markdown",
   "metadata": {},
   "source": [
    "# Zelda: Run 4 - Z5&6"
   ]
  },
  {
   "cell_type": "code",
   "execution_count": 4,
   "metadata": {},
   "outputs": [],
   "source": [
    "data_Z = pandas.read_excel(r'C:\\Users\\Yasemin\\Documents\\University\\Honours\\CSCxBRX\\Consortia_data.xlsx', sheet_name = 'Zelda_exp')\n",
    "dfZ = pandas.DataFrame(data_Z, columns=['Time','pH1','A1','B1','G1','pH2','A2','B2','G2'])"
   ]
  },
  {
   "cell_type": "code",
   "execution_count": 5,
   "metadata": {},
   "outputs": [],
   "source": [
    "t1z,ph1z,x1z,g1z = dfZ.Time,dfZ.pH1,dfZ.B1,dfZ.G1\n",
    "t2z,ph2z,x2z,g2z = dfZ.Time,dfZ.pH2,dfZ.B2,dfZ.G2"
   ]
  },
  {
   "cell_type": "markdown",
   "metadata": {},
   "source": [
    "# Consortia modelling"
   ]
  },
  {
   "cell_type": "code",
   "execution_count": 14,
   "metadata": {},
   "outputs": [],
   "source": [
    "mu_max_gomp = 0.12\n",
    "βmax_gomp = 0.25 #Based on higher Biomass growth\n",
    "α = x1m[7]/g1m[0] #Guess the stoichiometry\n",
    "A = x1m[7] #Maximum carrying capacity\n",
    "\n",
    "\n",
    "\n",
    "\n",
    "def growth_function(C,t): #All experiments were done in a batch fermenter\n",
    "    Cx,Cs,Ca1 = C #Biomass, sucrose, NH4+\n",
    "\n",
    "    mu1 = mu_max_gomp*np.log(A/Cx) #Gompertz\n",
    "\n",
    "    mu = mu1\n",
    "\n",
    "    β1 = βmax_gomp\n",
    "\n",
    "    \n",
    "    M = np.matrix([[-1,0,0,1,1,0], #C\n",
    "              [-22/12,-3,0,1.8,0,2], #H\n",
    "              [-11/12,0,-2,0.5,2,1], #O\n",
    "              [0,-1,0,0.2,0,0], #M\n",
    "              [1,0,0,0,0,0], #BASIS\n",
    "              [0,0,0,1,0,0]])  #ASSUMPTION\n",
    "    C = np.matrix([0,0,0,0,1,α]).T\n",
    "    r = np.linalg.solve(M,C)      \n",
    "    \n",
    "    if mu < 0: #No negative growth\n",
    "        mu = 0\n",
    "        \n",
    "    \n",
    "    if t < 5: #Time delay\n",
    "        mu = 0\n",
    "\n",
    "    if t<7: #Time delay\n",
    "        β1 = 0\n",
    "        \n",
    "    else:\n",
    "        mu = mu1\n",
    "        β1 = β1\n",
    "    \n",
    "    if Cs <= 1e-8:\n",
    "        dCs = 0\n",
    "        dCx = 0\n",
    "        dCa1 = 0\n",
    "        \n",
    "    else:    \n",
    "        dCx = mu*Cx #Biomass production\n",
    "        dCs = -r[0]/r[3]*mu*Cx #Glucose consumption\n",
    "        dCa1 = β1*mu*Cx\n",
    "    \n",
    "    return dCx,dCs,dCa1\n",
    "\n",
    "\n",
    "C0 = [x1m[0],g1m[0],0] #Sucrose in cmol - assumed no ammonia present initially\n",
    "tspan = np.linspace(0,t1m[7],916)\n",
    "C = sp.odeint(growth_function, C0, tspan)\n",
    "Cx, Cs,Ca1 = C.T"
   ]
  },
  {
   "cell_type": "code",
   "execution_count": 15,
   "metadata": {},
   "outputs": [
    {
     "data": {
      "image/png": "[encoded data removed]",
      "text/plain": [
       "<Figure size 432x288 with 1 Axes>"
      ]
     },
     "metadata": {},
     "output_type": "display_data"
    }
   ],
   "source": [
    "plt.plot(tspan,Cx, label ='Cx')\n",
    "plt.plot(tspan,Cs, label = 'Cs')\n",
    "plt.plot(tspan,Ca1, label = 'Ca1')\n",
    "plt.plot(t1m,x1m,'o', label = 'X')\n",
    "plt.plot(t1m,g1m,'o', label = 'S')\n",
    "plt.legend(loc='best')\n",
    "plt.show()"
   ]
  },
  {
   "cell_type": "code",
   "execution_count": 16,
   "metadata": {},
   "outputs": [
    {
     "data": {
      "text/plain": [
       "0.03675302087438581"
      ]
     },
     "execution_count": 16,
     "metadata": {},
     "output_type": "execute_result"
    }
   ],
   "source": [
    "errorsum_m1 = 0\n",
    "for i in np.arange(0,len(t1m),1):\n",
    "    for j in np.arange(0,len(tspan),1):\n",
    "        if abs(tspan[j] - t1m[i]) < 0.05:\n",
    "            error = abs(x1m[i]-Cx[j])\n",
    "            \n",
    "        else:\n",
    "            error = 0\n",
    "        \n",
    "    errorsum_m1 = errorsum_m1 + error\n",
    "    \n",
    "errorsum_m1"
   ]
  },
  {
   "cell_type": "code",
   "execution_count": 45,
   "metadata": {},
   "outputs": [],
   "source": [
    "#Sample 2\n",
    "mu_max_gomp = 0.15\n",
    "βmax_gomp = 0.25 #Based on higher Biomass growth\n",
    "α = 230/g2m[0] #Guess the stoichiometry\n",
    "A = 230 #x2m[7] #Maximum carrying capacity\n",
    "C0 = [x2m[0],g2m[0],0] #Sucrose in cmol - assumed no ammonia present initially\n",
    "tspan = np.linspace(0,t2m[7],916)\n",
    "C = sp.odeint(growth_function, C0, tspan)\n",
    "Cx, Cs,Ca1 = C.T"
   ]
  },
  {
   "cell_type": "code",
   "execution_count": 46,
   "metadata": {},
   "outputs": [
    {
     "data": {
      "image/png": "[encoded data removed]",
      "text/plain": [
       "<Figure size 432x288 with 1 Axes>"
      ]
     },
     "metadata": {},
     "output_type": "display_data"
    }
   ],
   "source": [
    "plt.plot(tspan,Cx, label ='Cx')\n",
    "plt.plot(tspan,Cs, label = 'Cs')\n",
    "plt.plot(tspan,Ca1, label = 'Ca1')\n",
    "plt.plot(t2m,x2m,'o', label = 'X')\n",
    "plt.plot(t2m,g2m,'o', label = 'S')\n",
    "plt.legend(loc='best')\n",
    "plt.show()"
   ]
  },
  {
   "cell_type": "code",
   "execution_count": 47,
   "metadata": {},
   "outputs": [
    {
     "data": {
      "text/plain": [
       "21.34439794038846"
      ]
     },
     "execution_count": 47,
     "metadata": {},
     "output_type": "execute_result"
    }
   ],
   "source": [
    "errorsum_m2 = 0\n",
    "for i in np.arange(0,len(t2m),1):\n",
    "    for j in np.arange(0,len(tspan),1):\n",
    "        if abs(tspan[j] - t2m[i]) < 0.05:\n",
    "            error = abs(x2m[i]-Cx[j])\n",
    "            \n",
    "        else:\n",
    "            error = 0\n",
    "        \n",
    "    errorsum_m2 = errorsum_m2 + error\n",
    "    \n",
    "errorsum_m2"
   ]
  },
  {
   "cell_type": "code",
   "execution_count": 56,
   "metadata": {},
   "outputs": [],
   "source": [
    "#Sample 3 - NOTE THERE IS CELL DEATH\n",
    "mu_max_gomp = 0.2\n",
    "βmax_gomp = 0.25 #Based on higher Biomass growth\n",
    "α = x3m[3]/g3m[0] #Guess the stoichiometry\n",
    "A = x3m[3] #Maximum carrying capacity\n",
    "C0 = [x3m[0],g3m[0],0] #Sucrose in cmol - assumed no ammonia present initially\n",
    "tspan = np.linspace(0,t3m[7],916)\n",
    "C = sp.odeint(growth_function, C0, tspan)\n",
    "Cx, Cs,Ca1 = C.T"
   ]
  },
  {
   "cell_type": "code",
   "execution_count": 57,
   "metadata": {},
   "outputs": [
    {
     "data": {
      "image/png": "[encoded data removed]",
      "text/plain": [
       "<Figure size 432x288 with 1 Axes>"
      ]
     },
     "metadata": {},
     "output_type": "display_data"
    }
   ],
   "source": [
    "plt.plot(tspan,Cx, label ='Cx')\n",
    "plt.plot(tspan,Cs, label = 'Cs')\n",
    "plt.plot(tspan,Ca1, label = 'Ca1')\n",
    "plt.plot(t3m,x3m,'o', label = 'X')\n",
    "plt.plot(t3m,g3m,'o', label = 'S')\n",
    "plt.legend(loc='best')\n",
    "plt.show()"
   ]
  },
  {
   "cell_type": "code",
   "execution_count": 58,
   "metadata": {},
   "outputs": [
    {
     "data": {
      "text/plain": [
       "120.20511872630968"
      ]
     },
     "execution_count": 58,
     "metadata": {},
     "output_type": "execute_result"
    }
   ],
   "source": [
    "errorsum_m3 = 0\n",
    "for i in np.arange(0,len(t3m),1):\n",
    "    for j in np.arange(0,len(tspan),1):\n",
    "        if abs(tspan[j] - t3m[i]) < 0.05:\n",
    "            error = abs(x3m[i]-Cx[j])\n",
    "            \n",
    "        else:\n",
    "            error = 0\n",
    "        \n",
    "    errorsum_m3 = errorsum_m3 + error\n",
    "    \n",
    "errorsum_m3"
   ]
  },
  {
   "cell_type": "code",
   "execution_count": 65,
   "metadata": {},
   "outputs": [],
   "source": [
    "#Sample 4 - NOTE THERE IS CELL DEATH\n",
    "mu_max_gomp = 0.09\n",
    "βmax_gomp = 0.25 #Based on higher Biomass growth\n",
    "α = x4m[6]/g4m[0] #Guess the stoichiometry\n",
    "A = x4m[6] #Maximum carrying capacity\n",
    "C0 = [x4m[0],g4m[0],0] #Sucrose in cmol - assumed no ammonia present initially\n",
    "tspan = np.linspace(0,t4m[7],916)\n",
    "C = sp.odeint(growth_function, C0, tspan)\n",
    "Cx, Cs,Ca1 = C.T"
   ]
  },
  {
   "cell_type": "code",
   "execution_count": 66,
   "metadata": {},
   "outputs": [
    {
     "data": {
      "image/png": "[encoded data removed]",
      "text/plain": [
       "<Figure size 432x288 with 1 Axes>"
      ]
     },
     "metadata": {},
     "output_type": "display_data"
    }
   ],
   "source": [
    "plt.plot(tspan,Cx, label ='Cx')\n",
    "plt.plot(tspan,Cs, label = 'Cs')\n",
    "plt.plot(tspan,Ca1, label = 'Ca1')\n",
    "plt.plot(t4m,x4m,'o', label = 'X')\n",
    "plt.plot(t4m,g4m,'o', label = 'S')\n",
    "plt.legend(loc='best')\n",
    "plt.show()"
   ]
  },
  {
   "cell_type": "code",
   "execution_count": 67,
   "metadata": {},
   "outputs": [
    {
     "data": {
      "text/plain": [
       "102.15523376024831"
      ]
     },
     "execution_count": 67,
     "metadata": {},
     "output_type": "execute_result"
    }
   ],
   "source": [
    "errorsum_m4 = 0\n",
    "for i in np.arange(0,len(t4m),1):\n",
    "    for j in np.arange(0,len(tspan),1):\n",
    "        if abs(tspan[j] - t4m[i]) < 0.05:\n",
    "            error = abs(x4m[i]-Cx[j])\n",
    "            \n",
    "        else:\n",
    "            error = 0\n",
    "        \n",
    "    errorsum_m4 = errorsum_m4 + error\n",
    "    \n",
    "errorsum_m4"
   ]
  },
  {
   "cell_type": "code",
   "execution_count": 80,
   "metadata": {},
   "outputs": [],
   "source": [
    "#Sample 5 - NOTE THERE IS CELL DEATH\n",
    "mu_max_gomp = 0.35\n",
    "βmax_gomp = 0.25 #Based on higher Biomass growth\n",
    "α = x5m[2]/g5m[0] #Guess the stoichiometry\n",
    "A = x5m[2] #Maximum carrying capacity\n",
    "C0 = [x5m[0],g5m[0],0] #Sucrose in cmol - assumed no ammonia present initially\n",
    "tspan = np.linspace(0,t5m[7],916)\n",
    "C = sp.odeint(growth_function, C0, tspan)\n",
    "Cx, Cs,Ca1 = C.T"
   ]
  },
  {
   "cell_type": "code",
   "execution_count": 81,
   "metadata": {},
   "outputs": [
    {
     "data": {
      "image/png": "[encoded data removed]",
      "text/plain": [
       "<Figure size 432x288 with 1 Axes>"
      ]
     },
     "metadata": {},
     "output_type": "display_data"
    }
   ],
   "source": [
    "plt.plot(tspan,Cx, label ='Cx')\n",
    "plt.plot(tspan,Cs, label = 'Cs')\n",
    "plt.plot(tspan,Ca1, label = 'Ca1')\n",
    "plt.plot(t5m,x5m,'o', label = 'X')\n",
    "plt.plot(t5m,g5m,'o', label = 'S')\n",
    "plt.legend(loc='best')\n",
    "plt.show()"
   ]
  },
  {
   "cell_type": "code",
   "execution_count": 82,
   "metadata": {},
   "outputs": [
    {
     "data": {
      "text/plain": [
       "154.75121951296717"
      ]
     },
     "execution_count": 82,
     "metadata": {},
     "output_type": "execute_result"
    }
   ],
   "source": [
    "errorsum_m5 = 0\n",
    "for i in np.arange(0,len(t5m),1):\n",
    "    for j in np.arange(0,len(tspan),1):\n",
    "        if abs(tspan[j] - t5m[i]) < 0.05:\n",
    "            error = abs(x5m[i]-Cx[j])\n",
    "            \n",
    "        else:\n",
    "            error = 0\n",
    "        \n",
    "    errorsum_m5 = errorsum_m5 + error\n",
    "    \n",
    "errorsum_m5"
   ]
  },
  {
   "cell_type": "code",
   "execution_count": 99,
   "metadata": {},
   "outputs": [],
   "source": [
    "#Sample 6 - NOTE THERE IS CELL DEATH\n",
    "mu_max_gomp = 0.05\n",
    "βmax_gomp = 0.25 #Based on higher Biomass growth\n",
    "α = x6m[7]/g6m[0] #Guess the stoichiometry\n",
    "m = 0.4\n",
    "A = x6m[7] #Maximum carrying capacity\n",
    "C0 = [x6m[0],g6m[0],0] #Sucrose in cmol - assumed no ammonia present initially\n",
    "tspan = np.linspace(0,t6m[7],916)\n",
    "C = sp.odeint(growth_function, C0, tspan)\n",
    "Cx, Cs,Ca1 = C.T"
   ]
  },
  {
   "cell_type": "code",
   "execution_count": 100,
   "metadata": {},
   "outputs": [
    {
     "data": {
      "image/png": "[encoded data removed]",
      "text/plain": [
       "<Figure size 432x288 with 1 Axes>"
      ]
     },
     "metadata": {},
     "output_type": "display_data"
    }
   ],
   "source": [
    "plt.plot(tspan,Cx, label ='Cx')\n",
    "plt.plot(tspan,Cs, label = 'Cs')\n",
    "plt.plot(tspan,Ca1, label = 'Ca1')\n",
    "plt.plot(t6m,x6m,'o', label = 'X')\n",
    "plt.plot(t6m,g6m,'o', label = 'S')\n",
    "plt.legend(loc='best')\n",
    "plt.show()"
   ]
  },
  {
   "cell_type": "code",
   "execution_count": 101,
   "metadata": {},
   "outputs": [
    {
     "data": {
      "text/plain": [
       "2.21168508403332"
      ]
     },
     "execution_count": 101,
     "metadata": {},
     "output_type": "execute_result"
    }
   ],
   "source": [
    "errorsum_m6 = 0\n",
    "for i in np.arange(0,len(t6m),1):\n",
    "    for j in np.arange(0,len(tspan),1):\n",
    "        if abs(tspan[j] - t6m[i]) < 0.05:\n",
    "            error = abs(x6m[i]-Cx[j])\n",
    "            \n",
    "        else:\n",
    "            error = 0\n",
    "        \n",
    "    errorsum_m6 = errorsum_m6 + error\n",
    "    \n",
    "errorsum_m6"
   ]
  },
  {
   "cell_type": "code",
   "execution_count": 108,
   "metadata": {},
   "outputs": [],
   "source": [
    "#Sample Z5 - NOTE THERE IS CELL DEATH\n",
    "mu_max_gomp = 0.045\n",
    "βmax_gomp = 0.25 #Based on higher Biomass growth\n",
    "α = x1z[14]/g1z[0] #Guess the stoichiometry\n",
    "A = x1z[14] #Maximum carrying capacity\n",
    "C0 = [x1z[0],g1z[0],0] #Sucrose in cmol - assumed no ammonia present initially\n",
    "tspan = np.linspace(0,t1z[14],2161)\n",
    "C = sp.odeint(growth_function, C0, tspan)\n",
    "Cx, Cs,Ca1 = C.T"
   ]
  },
  {
   "cell_type": "code",
   "execution_count": 109,
   "metadata": {},
   "outputs": [
    {
     "data": {
      "image/png": "[encoded data removed]",
      "text/plain": [
       "<Figure size 432x288 with 1 Axes>"
      ]
     },
     "metadata": {},
     "output_type": "display_data"
    }
   ],
   "source": [
    "plt.plot(tspan,Cx, label ='Cx')\n",
    "plt.plot(tspan,Cs, label = 'Cs')\n",
    "plt.plot(tspan,Ca1, label = 'Ca1')\n",
    "plt.plot(t1z,x1z,'o', label = 'X')\n",
    "plt.plot(t1z,g1z,'o', label = 'S')\n",
    "plt.legend(loc='best')\n",
    "plt.show()"
   ]
  },
  {
   "cell_type": "code",
   "execution_count": 110,
   "metadata": {},
   "outputs": [
    {
     "data": {
      "text/plain": [
       "0.04939032368955054"
      ]
     },
     "execution_count": 110,
     "metadata": {},
     "output_type": "execute_result"
    }
   ],
   "source": [
    "errorsum_z1 = 0\n",
    "for i in np.arange(0,len(t1z),1):\n",
    "    for j in np.arange(0,len(tspan),1):\n",
    "        if abs(tspan[j] - t1z[i]) < 0.05:\n",
    "            error = abs(x1z[i]-Cx[j])\n",
    "            \n",
    "        else:\n",
    "            error = 0\n",
    "        \n",
    "    errorsum_z1 = errorsum_z1 + error\n",
    "    \n",
    "errorsum_z1"
   ]
  },
  {
   "cell_type": "code",
   "execution_count": 113,
   "metadata": {},
   "outputs": [],
   "source": [
    "#Sample Z6 - NOTE THERE IS CELL DEATH\n",
    "mu_max_gomp = 0.045\n",
    "βmax_gomp = 0.25 #Based on higher Biomass growth\n",
    "α = x2z[14]/g2z[0] #Guess the stoichiometry\n",
    "A = x2z[14] #Maximum carrying capacity\n",
    "C0 = [x2z[0],g2z[0],0] #Sucrose in cmol - assumed no ammonia present initially\n",
    "tspan = np.linspace(0,t2z[14],2161)\n",
    "C = sp.odeint(growth_function, C0, tspan)\n",
    "Cx, Cs,Ca1 = C.T"
   ]
  },
  {
   "cell_type": "code",
   "execution_count": 114,
   "metadata": {},
   "outputs": [
    {
     "data": {
      "image/png": "[encoded data removed]",
      "text/plain": [
       "<Figure size 432x288 with 1 Axes>"
      ]
     },
     "metadata": {},
     "output_type": "display_data"
    }
   ],
   "source": [
    "plt.plot(tspan,Cx, label ='Cx')\n",
    "plt.plot(tspan,Cs, label = 'Cs')\n",
    "plt.plot(tspan,Ca1, label = 'Ca1')\n",
    "plt.plot(t2z,x2z,'o', label = 'X')\n",
    "plt.plot(t2z,g2z,'o', label = 'S')\n",
    "plt.legend(loc='best')\n",
    "plt.show()"
   ]
  },
  {
   "cell_type": "code",
   "execution_count": 115,
   "metadata": {},
   "outputs": [
    {
     "data": {
      "text/plain": [
       "0.038626689584376095"
      ]
     },
     "execution_count": 115,
     "metadata": {},
     "output_type": "execute_result"
    }
   ],
   "source": [
    "errorsum_z2 = 0\n",
    "for i in np.arange(0,len(t2z),1):\n",
    "    for j in np.arange(0,len(tspan),1):\n",
    "        if abs(tspan[j] - t2z[i]) < 0.05:\n",
    "            error = abs(x2z[i]-Cx[j])\n",
    "            \n",
    "        else:\n",
    "            error = 0\n",
    "        \n",
    "    errorsum_z2 = errorsum_z2 + error\n",
    "    \n",
    "errorsum_z2"
   ]
  }
 ],
 "metadata": {
  "kernelspec": {
   "display_name": "Python 3",
   "language": "python",
   "name": "python3"
  },
  "language_info": {
   "codemirror_mode": {
    "name": "ipython",
    "version": 3
   },
   "file_extension": ".py",
   "mimetype": "text/x-python",
   "name": "python",
   "nbconvert_exporter": "python",
   "pygments_lexer": "ipython3",
   "version": "3.7.3"
  }
 },
 "nbformat": 4,
 "nbformat_minor": 2
}
