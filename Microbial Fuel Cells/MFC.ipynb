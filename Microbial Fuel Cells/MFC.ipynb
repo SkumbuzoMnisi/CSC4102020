{
 "cells": [
  {
   "cell_type": "markdown",
   "metadata": {},
   "source": [
    "# Microbial Fuel Cells"
   ]
  },
  {
   "cell_type": "markdown",
   "metadata": {},
   "source": [
    "Microbial fuel cells (MFC) are bio-electrochemical systems mainly used to generate energy\n",
    "from living electroactive bacteria or fungi due to their metabolic processes. It can also be\n",
    "utilised to produce a certain product or for specific environmental advantages, such as\n",
    "wastewater treatment. One of the ways to curb climate change is to employ renewable bioenergy from wastes, resulting in a neutral or even negative carbon footprint. "
   ]
  },
  {
   "cell_type": "markdown",
   "metadata": {},
   "source": [
    "## How do MFC work?"
   ]
  },
  {
   "cell_type": "markdown",
   "metadata": {},
   "source": [
    "Now that you are familiar with the reduction reaction of $NAD^{+}$ to NADH, we can now include it in our MFC discussion, [recap on NADH](https://www.youtube.com/watch?v=Kb-4uuCYLvE).\n",
    "As we know by now mitochondria are the energy powerhouses of the cell by accumulating or releasing chemical energy in the form of substrates like NADH or NADPH. These substrates transfer electrons to the metabolites and when the process is carried out in anaerobic conditions, NADH and NADPH become electroactive. "
   ]
  },
  {
   "cell_type": "code",
   "execution_count": 1,
   "metadata": {},
   "outputs": [],
   "source": [
    "#<img src =\"Mito.jpg\" style=width:357px;height:328px/>"
   ]
  },
  {
   "cell_type": "markdown",
   "metadata": {},
   "source": [
    "![](Mito.jpg)"
   ]
  },
  {
   "cell_type": "markdown",
   "metadata": {},
   "source": [
    "The operating principle comprises of the division of the half reactions of oxidation and reduction in two seperate compartments. In the anodic compartment, electroactive bacteria catalyse substrate by oxidation in anaerobic conditions and transfer the electrons to the electrode. These electrons then flow through an external electrical circuit to the cathodic compartment where oxygen is the electron acceptor and reduced in aerobic conditions. To ensure neutrality, the $H^{+}$ flows through a cation permeable membrane to the cathodic compartment.  "
   ]
  },
  {
   "cell_type": "markdown",
   "metadata": {},
   "source": [
    "![Figure 1: MFC diagram](MFCdiagram.png)"
   ]
  },
  {
   "cell_type": "markdown",
   "metadata": {},
   "source": [
    "Let's have a look at the following equation in cmol balance form:"
   ]
  },
  {
   "cell_type": "markdown",
   "metadata": {},
   "source": [
    "$$ C H_{2} O + NH_{3} \\to C H_{1.8} O_{0.5} N_{0.2} + CO_{2} + H^{+} + e^{-} $$"
   ]
  },
  {
   "cell_type": "markdown",
   "metadata": {},
   "source": [
    "#### This equation looks very familiar!"
   ]
  },
  {
   "cell_type": "markdown",
   "metadata": {},
   "source": [
    "In the equation above glucose is the substrate used and ammonia is used as a nitrogen source for the bacteria. Although every bacteria has their very own chemical formula, we will be using that of the familiar biomass estimation, X. The only addition from previous work, is the hydrogen atom, represented as an electron and proton. Balancing this equation is done as in previous chapters. Let's try and balance the above equation."
   ]
  },
  {
   "cell_type": "markdown",
   "metadata": {},
   "source": [
    "$$(-r_S)\\ CH_2 O+(-r_A)\\ NH_3 \\to (r_{X})\\ CH_{1.8} O_{0.5} N_{0.2} +(r_C)\\ CO_2 + (r_H)\\ H $$"
   ]
  },
  {
   "cell_type": "markdown",
   "metadata": {},
   "source": [
    "As said earlier the proton and electron can be seen as a hydrogen atom for simplicity of the balance. The proton and electron will then have the same stoichiometric coefficient as hydrogen, as can be seen below,"
   ]
  },
  {
   "cell_type": "markdown",
   "metadata": {},
   "source": [
    "$$ YH \\to YH^{+} + Ye^{-} $$"
   ]
  },
  {
   "cell_type": "markdown",
   "metadata": {},
   "source": [
    "The matrix will look at follows, "
   ]
  },
  {
   "cell_type": "markdown",
   "metadata": {},
   "source": [
    "$$\\begin{bmatrix}-1&0&1&1&0\\\\-2&-3&1.8&0&1\\\\-1&0&0.5&2&0\\\\0&1&0.2&0&0\\\\1&0&0&0&0\\end{bmatrix}\\times\\begin{bmatrix}-r_S\\\\-r_A\\\\r_{X}\\\\r_C\\\\r_H\\end{bmatrix}=\\begin{bmatrix}0\\\\0\\\\0\\\\0\\\\1\\end{bmatrix}$$\n"
   ]
  },
  {
   "cell_type": "markdown",
   "metadata": {},
   "source": [
    "And solving in python:"
   ]
  },
  {
   "cell_type": "code",
   "execution_count": 2,
   "metadata": {},
   "outputs": [
    {
     "name": "stdout",
     "output_type": "stream",
     "text": [
      "[[1.        ]\n",
      " [0.13333333]\n",
      " [0.66666667]\n",
      " [0.33333333]\n",
      " [1.2       ]]\n",
      "1.0\n",
      "0.13333333333333333\n"
     ]
    }
   ],
   "source": [
    "import numpy\n",
    "S = numpy.matrix([[-1, 0, 1, 1, 0],  \n",
    "                  [-2, -3, 1.8, 0,1], \n",
    "                  [-1, 0, 0.5, 2, 0],\n",
    "                  [0, -1, 0.2, 0, 0],\n",
    "                  [1, 0, 0, 0, 0]])\n",
    "\n",
    "C = numpy.matrix([[0,0,0,0,1]]).T\n",
    "Y = numpy.linalg.solve(S,C)\n",
    "print(Y)\n",
    "print(Y[0,0])\n",
    "print (Y[1,0])"
   ]
  },
  {
   "cell_type": "markdown",
   "metadata": {},
   "source": [
    "Thus the balanced equation will have the following form,"
   ]
  },
  {
   "cell_type": "markdown",
   "metadata": {},
   "source": [
    "$$ CH_2 O+ \\frac{2}{15} NH_3 \\to  \\frac{2}{3} CH_{1.8} O_{0.5} N_{0.2} + \\frac{1}{3}CO_2 + 1.2H^+ +1.2e^- $$\n"
   ]
  },
  {
   "cell_type": "markdown",
   "metadata": {},
   "source": [
    "As can be seen by the equation above, for every cmol of glucose, 1.2 mol electrons are formed that will flow through the external electrical circuit. We will now model the equation in a batch reactor using a similiar method to that what was used to model bacth fermentation. As the volume in a bacth reactor doesn't change, it creates very simple differential equations. "
   ]
  },
  {
   "cell_type": "markdown",
   "metadata": {},
   "source": [
    "\\begin{align*}\n",
    "\\text{Biomass: }&\\frac{dC_X}{dt}=r_X C_X -K_dC_X\\\\\n",
    "\\text{Substrate: }&\\frac{dC_S}{dt}=-r_S C_X \\\\\n",
    "\\text{Hydrogen: }&\\frac{dC_H}{dt}=r_H C_X \\\\\n",
    "\\end{align*}"
   ]
  },
  {
   "cell_type": "markdown",
   "metadata": {},
   "source": [
    "Where, S, is the substrate (glucose in this case) and X, is the biomass. $K_{d}$ is known as the bacterial endogenous decay coefficient and can be assumed to be 0.02 $\\mu_{max}$. This will be considered later and for now it is assumed the bacteria doesn't decay. Monod kinetics are assumed for the growth of the bacteria using the following equation:"
   ]
  },
  {
   "cell_type": "markdown",
   "metadata": {},
   "source": [
    "$$ \\mu = \\mu_{max} \\frac{C_S}{K_M + C_S} $$"
   ]
  },
  {
   "cell_type": "markdown",
   "metadata": {},
   "source": [
    "Let's try solving the differential equations. First we will define the required parameters:"
   ]
  },
  {
   "cell_type": "code",
   "execution_count": 3,
   "metadata": {},
   "outputs": [],
   "source": [
    "import numpy as np\n",
    "import matplotlib.pyplot as plt\n",
    "from scipy.integrate import odeint\n",
    "%matplotlib inline\n",
    "\n",
    "MMX = 1*12 + 1.8*1 + 0.5*16 + 0.2*14\n",
    "\n",
    "mu_max = 0.12\n",
    "K_M = 0.0004\n",
    "\n",
    "c_S_0 = 5/30\n",
    "c_X_0 = 0.001/MMX\n",
    "c_H_0 = 0/1\n",
    "V_0 = 1"
   ]
  },
  {
   "cell_type": "markdown",
   "metadata": {},
   "source": [
    "As can be observed by the cell above, the molar mass of the biomass is calculated. There are parameters given for $\\mu_{max}$ and $K_{m}$, respectively. The initial values of the substrate, $C_{S}$ and biomass, $C_{X}$, is given in units of grams and then converted to cmols. As for the volume, it will stay unchanged at 1 L, as it is a batch reactor, but might change later when we consider CSTR's."
   ]
  },
  {
   "cell_type": "code",
   "execution_count": 4,
   "metadata": {},
   "outputs": [],
   "source": [
    "def rates(var):\n",
    "    c_S, c_X, c_H, c_C, V = var\n",
    "    \n",
    "    mu = mu_max*c_S/(K_M + c_S)\n",
    "    \n",
    "    S_base = np.matrix([[1,    0,    1,     1,    0,  ],\n",
    "                        [2,    3,    1.8,   0,    1,  ],\n",
    "                        [1,    0,    0.5,   2,    0,  ],\n",
    "                        [0,    1,    0.2,   0,    0   ]])\n",
    "#                       rS,   rA,   rX,    rC,   rH  \n",
    "#                       r[0], r[1], r[2],  r[3], r[4] \n",
    "\n",
    "    S_spec = [1, 0, 0, 0, 0] # S0\n",
    "    A_spec = [0, 1, 0, 0, 0] # S1\n",
    "    X_spec = [0, 0, 1, 0, 0] # S2\n",
    "    C_spec = [0, 0, 0, 1, 0] # S3\n",
    "    H_spec = [0, 0, 0, 0, 1] # S4\n",
    "    \n",
    "    S = np.vstack([S_base, X_spec])\n",
    "    C = np.array([0, 0, 0, 0, mu])\n",
    "    r = np.linalg.solve(S, C)\n",
    "    return r"
   ]
  },
  {
   "cell_type": "markdown",
   "metadata": {},
   "source": [
    "Here, the same first 4 rows of the matrix used above, is implemented. Anyone of the 5 specifications can be used. The specification of the biomass was implemented here, thus making the biomass our basis. Numpy.vstack allows you to add another row into an existing matrix. It is then solved as usual."
   ]
  },
  {
   "cell_type": "code",
   "execution_count": 5,
   "metadata": {},
   "outputs": [],
   "source": [
    "def ferm(var, t):\n",
    "    c_S, c_X, c_H, c_C, V = var\n",
    "    \n",
    "    r_S, r_A, r_X, r_C, r_H = rates(var)\n",
    "\n",
    "    dc_Sdt = r_S*c_X\n",
    "    dc_Xdt = r_X*c_X\n",
    "    dc_Hdt = r_H*c_X\n",
    "    dc_Cdt = r_C*c_X\n",
    "    dVdt = 0\n",
    "    return dc_Sdt, dc_Xdt, dc_Hdt, dc_Cdt, dVdt"
   ]
  },
  {
   "cell_type": "markdown",
   "metadata": {},
   "source": [
    "The three differential equations are now included in the 'ferm' function and ready to be integrated! Note, as stated earlier, the decay coefficient, $K_{d}$ will not be considered now.\n",
    "As it is a batch reactor, the change in volume is zero. "
   ]
  },
  {
   "cell_type": "code",
   "execution_count": 6,
   "metadata": {},
   "outputs": [],
   "source": [
    "c_i_0 = [c_S_0, c_X_0, c_H_0, 0, V_0]\n",
    "tspan = np.linspace(0.000001, 80, 101)\n",
    "\n",
    "c_i = odeint(ferm, c_i_0, tspan)\n",
    "c_S, c_X, c_H, c_C, V = c_i.T"
   ]
  },
  {
   "cell_type": "markdown",
   "metadata": {},
   "source": [
    "The differential equation are solved using odeint from the scipy.integrate module."
   ]
  },
  {
   "cell_type": "markdown",
   "metadata": {},
   "source": [
    "Although the concentration of all the considered species, $C_{S}$, $C_{X}$ and $C_{H}$ have been calculted, we are interested in the rates of how the increase/decrease. We simply make lists and append the corresponding rate value to the list. Why we do this become apperent later..."
   ]
  },
  {
   "cell_type": "code",
   "execution_count": 7,
   "metadata": {},
   "outputs": [],
   "source": [
    "list_cS = []\n",
    "list_cX = []\n",
    "list_cH = []\n",
    "\n",
    "for i in range(0, len(c_S)):\n",
    "    r_S, r_A, r_X, r_C, r_H = rates([c_S[i], c_X[i], c_H[i], c_C[i], V[i]])\n",
    "    list_cS.append(r_S)\n",
    "    list_cX.append(r_X)\n",
    "    list_cH.append(r_H)\n",
    "    \n",
    "r_S = np.array(list_cS)\n",
    "r_H = np.array(list_cH)"
   ]
  },
  {
   "cell_type": "markdown",
   "metadata": {},
   "source": [
    "Finally, we plot our results."
   ]
  },
  {
   "cell_type": "code",
   "execution_count": 37,
   "metadata": {},
   "outputs": [
    {
     "data": {
      "text/plain": [
       "<matplotlib.legend.Legend at 0x14b347c26d8>"
      ]
     },
     "execution_count": 37,
     "metadata": {},
     "output_type": "execute_result"
    },
    {
     "data": {
      "image/png": "[encoded data removed]",
      "text/plain": [
       "<Figure size 432x288 with 1 Axes>"
      ]
     },
     "metadata": {
      "needs_background": "light"
     },
     "output_type": "display_data"
    }
   ],
   "source": [
    "plt.plot(tspan, c_S*30, label = 'CS')\n",
    "plt.plot(tspan, c_X*MMX, label = 'CX')\n",
    "plt.plot(tspan, c_H*1, label = 'CH')\n",
    "plt.ylabel('Concentration [g/L]')\n",
    "plt.xlabel('Time [h]')\n",
    "plt.legend()"
   ]
  },
  {
   "cell_type": "markdown",
   "metadata": {},
   "source": [
    "Let's have a look at the following plot."
   ]
  },
  {
   "cell_type": "code",
   "execution_count": 9,
   "metadata": {},
   "outputs": [
    {
     "data": {
      "text/plain": [
       "Text(0.5, 0, 'Time [h]')"
      ]
     },
     "execution_count": 9,
     "metadata": {},
     "output_type": "execute_result"
    },
    {
     "data": {
      "image/png": "[encoded data removed]",
      "text/plain": [
       "<Figure size 432x288 with 1 Axes>"
      ]
     },
     "metadata": {
      "needs_background": "light"
     },
     "output_type": "display_data"
    }
   ],
   "source": [
    "plt.plot(tspan, r_H)\n",
    "plt.ylabel('H [1/h]')\n",
    "plt.xlabel('Time [h]')"
   ]
  },
  {
   "cell_type": "markdown",
   "metadata": {},
   "source": [
    "What do you see?\n"
   ]
  },
  {
   "cell_type": "markdown",
   "metadata": {},
   "source": [
    "As we mentioned earlier, hydrogen consists of a proton and electron. The rate of hydrogen production stays constant at 0.216 $\\frac{mol \\ H}{cmol \\ X \\cdot h}$, but at t = 67 h, drops to zero, due to glucose being depleted. To get a better look at the production of hydrogen we will plot $C_{H}$ vs time on its own axis."
   ]
  },
  {
   "cell_type": "code",
   "execution_count": 10,
   "metadata": {},
   "outputs": [
    {
     "data": {
      "text/plain": [
       "Text(0.5, 0, 'Time [h]')"
      ]
     },
     "execution_count": 10,
     "metadata": {},
     "output_type": "execute_result"
    },
    {
     "data": {
      "image/png": "[encoded data removed]",
      "text/plain": [
       "<Figure size 432x288 with 1 Axes>"
      ]
     },
     "metadata": {
      "needs_background": "light"
     },
     "output_type": "display_data"
    }
   ],
   "source": [
    "plt.plot(tspan, c_H*1, label = 'CH')\n",
    "plt.ylabel('Concentration H [g/L]')\n",
    "plt.xlabel('Time [h]')"
   ]
  },
  {
   "cell_type": "markdown",
   "metadata": {},
   "source": [
    "How do you calculate current from here? Well, current has units of ampere, which is coulumb per second. If we dig deep enough into high school chemistry, there exists a relationship between moles and coulomb...\n"
   ]
  },
  {
   "cell_type": "markdown",
   "metadata": {},
   "source": [
    "But don't make the mistale of using the molar or mass concentration to calculate the amperes, as dividing the concentration by time will give u a differential over the whole time span, rather than at every required time point in the list. Thus we will convert the biomass based rate of hydrogen production to an absolute hydrogen production rate value. We can do this by multiplying by the concentration of biomass and the volume. It will be easier to explain how the units check out visually."
   ]
  },
  {
   "cell_type": "markdown",
   "metadata": {},
   "source": [
    "$$ r_H [\\frac{mol \\ H}{cmol \\ X \\cdot h}] \\times c_X [\\frac{cmol \\ X}{L}] \\times V [L] \\times \\frac{h}{60 \\ minutes}\\times \\frac{minutes}{60 \\ seconds} = F_H [\\frac{mol \\ H}{s}]$$"
   ]
  },
  {
   "cell_type": "code",
   "execution_count": 11,
   "metadata": {},
   "outputs": [
    {
     "data": {
      "text/plain": [
       "Text(0.5, 0, 'Time [h]')"
      ]
     },
     "execution_count": 11,
     "metadata": {},
     "output_type": "execute_result"
    },
    {
     "data": {
      "image/png": "[encoded data removed]",
      "text/plain": [
       "<Figure size 432x288 with 1 Axes>"
      ]
     },
     "metadata": {
      "needs_background": "light"
     },
     "output_type": "display_data"
    }
   ],
   "source": [
    "F_H = r_H*c_X*V*(1/60)*(1/60)\n",
    "\n",
    "plt.plot(tspan, F_H)\n",
    "plt.ylabel('Molar flow rate of Hydrogen [mol/s]')\n",
    "plt.xlabel('Time [h]')"
   ]
  },
  {
   "cell_type": "markdown",
   "metadata": {},
   "source": [
    "*If we now take this from a mass concentration to a molar concentration (it will effectively stay unchanged as the molar mass of hydrogen is 1).* Now that we have molar flow rate, $F_{H}$, we can go to the next step. Remember something called Avogadro's number? It can convert moles to atoms by multiplying by 6.022 $\\times$ $10^{23}$. Let's calculate how many hydrogen atoms are present in the reactor at a specific time,"
   ]
  },
  {
   "cell_type": "code",
   "execution_count": 12,
   "metadata": {},
   "outputs": [
    {
     "data": {
      "text/plain": [
       "Text(0.5, 0, 'Time [h]')"
      ]
     },
     "execution_count": 12,
     "metadata": {},
     "output_type": "execute_result"
    },
    {
     "data": {
      "image/png": "[encoded data removed]",
      "text/plain": [
       "<Figure size 432x288 with 1 Axes>"
      ]
     },
     "metadata": {
      "needs_background": "light"
     },
     "output_type": "display_data"
    }
   ],
   "source": [
    "H_atoms = F_H*6.022e23\n",
    "plt.plot(tspan, H_atoms)\n",
    "plt.ylabel('Number of hydrogen atoms')\n",
    "plt.xlabel('Time [h]')"
   ]
  },
  {
   "cell_type": "markdown",
   "metadata": {},
   "source": [
    "Now comes the part that has been repeated numerous times. A hydrogen consists of a proton and a electron, this means the amount of hydrogen atoms equals the amount of electrons and the charge of one electron is equal to 1.60217646 $\\times$ $10^{-19}$ coulomb and as stated earlier coulomb per second is ampere! And as we already have the number of hydrogen atoms and electrons in a per second basis, multiply by the charge of an electron will automatically give coulomb per second, which equates to amperes."
   ]
  },
  {
   "cell_type": "code",
   "execution_count": 13,
   "metadata": {},
   "outputs": [
    {
     "data": {
      "text/plain": [
       "Text(0.5, 0, 'Time [h]')"
      ]
     },
     "execution_count": 13,
     "metadata": {},
     "output_type": "execute_result"
    },
    {
     "data": {
      "image/png": "[encoded data removed]",
      "text/plain": [
       "<Figure size 432x288 with 1 Axes>"
      ]
     },
     "metadata": {
      "needs_background": "light"
     },
     "output_type": "display_data"
    }
   ],
   "source": [
    "N_electrons = H_atoms\n",
    "Coulomb_per_second = N_electrons*1.60217646e-19\n",
    "\n",
    "Ampere = Coulomb_per_second\n",
    "\n",
    "plt.plot(tspan, Ampere)\n",
    "plt.ylabel('Amperes [A]')\n",
    "plt.xlabel('Time [h]')"
   ]
  },
  {
   "cell_type": "markdown",
   "metadata": {},
   "source": [
    "And there it is the current produced over time from our biomass using glucose. Some interesting observations can be made. "
   ]
  },
  {
   "cell_type": "markdown",
   "metadata": {},
   "source": [
    "The amount of amperes produced, increases exponentially and then suddenly drops to zero at t = 67 h, due to the substrate being used up. This clearly shows us that there exists a clear link between substrate and current, when the substrate is depleted, the bugs can't produce any electrons and there will thus be no current. Eventhough the bacteria will still be alive for some time after the substrate is depleted, they wont be producing any current."
   ]
  },
  {
   "cell_type": "markdown",
   "metadata": {},
   "source": [
    "But does that mean if we add 100 kg of glucose and insure the bacteria never runs out of substrate we will be able to produce enough amperes to power a house?\n",
    "Well, unfortunately, it doesn't work like that. As with everything in life, there exists a maximum and it will never exceed that limit. "
   ]
  },
  {
   "cell_type": "markdown",
   "metadata": {},
   "source": [
    "If we, again, go back to high school chemistry, we can remind ourselfs of half reaction potential. This is the theoretcial maximum voltage a cell can reach. If we know the resistance of our system we can then calculate the maximum current that can be produced aswell. Here follows a standard reduction potential table of some reactions. We will assume that these voltages are valid at all concentrations, temperatures and pH values. "
   ]
  },
  {
   "cell_type": "markdown",
   "metadata": {},
   "source": [
    "![Figure 3: Redox table](redox.jpeg)"
   ]
  },
  {
   "cell_type": "markdown",
   "metadata": {},
   "source": [
    "Reading the reaction from left to right will give you the reduction reaction and reading from right to left will give you the oxidation reaction. Let's use the glucose-oxygen redox reaction as in the example above. The amount of electrons on the right and the left should cancel out. "
   ]
  },
  {
   "cell_type": "markdown",
   "metadata": {},
   "source": [
    "\\begin{align*}\n",
    "\\text{Reduction: }&\\frac{1}{2}O_2 + 2H^+ + 2e^- \\to H_2O \\ \\times 2\\\\\n",
    "\\text{Oxidation: }&CH_2O + H_2O \\to CO_2 + 4H^+ + 4e^- \\\\\n",
    "\\end{align*}"
   ]
  },
  {
   "cell_type": "markdown",
   "metadata": {},
   "source": [
    "Now, "
   ]
  },
  {
   "cell_type": "markdown",
   "metadata": {},
   "source": [
    "\\begin{align*}\n",
    "\\text{Reduction: }&O_2 + 4H^+ + 4e^- \\to 2H_2O \\ \\\\\n",
    "\\text{Oxidation: }&CH_2O + H_2O \\to CO_2 + 4H^+ + 4e^- \\\\\n",
    "\\end{align*}"
   ]
  },
  {
   "cell_type": "markdown",
   "metadata": {},
   "source": [
    "Cancel and writing as one equation,"
   ]
  },
  {
   "cell_type": "markdown",
   "metadata": {},
   "source": [
    "\\begin{align*}\n",
    "\\text{Redox reaction: }&CH_2O + O_2 \\to CO_2 + H_2O\\ \\\\\n",
    "\\end{align*}"
   ]
  },
  {
   "cell_type": "markdown",
   "metadata": {},
   "source": [
    "And as we multiplied the reduction half reaction by 2, the voltage must also be multiplied by 2. Thus,"
   ]
  },
  {
   "cell_type": "markdown",
   "metadata": {},
   "source": [
    "$$ E_{max} = 2\\times820 - (-430) = 2070 \\ mV = 2.07 \\ V $$"
   ]
  },
  {
   "cell_type": "markdown",
   "metadata": {},
   "source": [
    "Where $E_{max}$ is the maximum voltage that can be obtained, in this case 2.07 V."
   ]
  },
  {
   "cell_type": "markdown",
   "metadata": {},
   "source": [
    "The maximum current can also be calculated by using the following equation,"
   ]
  },
  {
   "cell_type": "markdown",
   "metadata": {},
   "source": [
    "$$ I_{max} = \\frac{E_{max}}{R_{ext}} $$"
   ]
  },
  {
   "cell_type": "markdown",
   "metadata": {},
   "source": [
    "We will assume that $R_{ext}$ is much bigger than $R_{int}$ and thus we will only be considering $R_{ext}$. After calculating $I_{max}$, we can actually completly work back to calculate a maximum hydrogen production rate. Using the same method as above, we can calculate $r_{H, \\ max}$ as follows, "
   ]
  },
  {
   "cell_type": "code",
   "execution_count": 14,
   "metadata": {},
   "outputs": [
    {
     "data": {
      "text/plain": [
       "0.00015447270233862693"
      ]
     },
     "execution_count": 14,
     "metadata": {},
     "output_type": "execute_result"
    }
   ],
   "source": [
    "V_max = 2.07 #V\n",
    "R = 500 #ohm (so big, rint is effec = 0)\n",
    "I_max = V_max/R\n",
    "N_elec_max = I_max/1.60217646e-19\n",
    "F_H_max = N_elec_max/6.022e23\n",
    "r_H_max = F_H_max/((1/60)*(1/60))\n",
    "r_H_max"
   ]
  },
  {
   "cell_type": "markdown",
   "metadata": {},
   "source": [
    "The maximum current that can actually be produced is,"
   ]
  },
  {
   "cell_type": "code",
   "execution_count": 15,
   "metadata": {},
   "outputs": [
    {
     "name": "stdout",
     "output_type": "stream",
     "text": [
      "I_max = 0.00414 A\n"
     ]
    }
   ],
   "source": [
    "print('I_max =', I_max, 'A')"
   ]
  },
  {
   "cell_type": "markdown",
   "metadata": {},
   "source": [
    "So when this maximum voltage is reached, what happens to our bacteria? Well it will produce a maximum hydrogen rate, but what will happen then?\n"
   ]
  },
  {
   "cell_type": "markdown",
   "metadata": {},
   "source": [
    "As the bacteria still wants to grow, but can't produce anymore hydrogen, another metabolic pathway will be followed. A new 'electron acceptor' must be used. The bacteria will actually then follow a fermentation pathway where ethanol and water is produced. This does not only happen theoritically, but practically as well, as one student realized for this CSC. This is a fully functioning MFC on day 1."
   ]
  },
  {
   "cell_type": "markdown",
   "metadata": {},
   "source": [
    "![](day1.jpeg)"
   ]
  },
  {
   "cell_type": "markdown",
   "metadata": {},
   "source": [
    "And after 7 days, fermatation took place as can be seen by how opaque the water became. A strong alcohol odour could also be smelled at the top of the MFC, which is the ethanol being produced."
   ]
  },
  {
   "cell_type": "markdown",
   "metadata": {},
   "source": [
    "![](day7.jpeg)"
   ]
  },
  {
   "cell_type": "markdown",
   "metadata": {},
   "source": [
    "Thus, we will have to modify our chemical equation from earlier to,"
   ]
  },
  {
   "cell_type": "markdown",
   "metadata": {},
   "source": [
    "$$(-r_S)\\ CH_2 O+(-r_A)\\ NH_3 \\to (r_{X})\\ CH_{1.8} O_{0.5} N_{0.2} +(r_C)\\ CO_2 + (r_H)\\ H + (r_E)\\ CH_3O_{0.5} + (r_W)\\ H_2O$$"
   ]
  },
  {
   "cell_type": "markdown",
   "metadata": {},
   "source": [
    "But now we can't calculate the stoicometric equations as they will be changing as the hydrogen is being produced. \n",
    "We will modify our 'rates' function as well and accommodate the  production of ethanol when the hydrogen production rate reaches a maximum. We will be adding an if statement for when the ethanol is produced."
   ]
  },
  {
   "cell_type": "code",
   "execution_count": 16,
   "metadata": {},
   "outputs": [
    {
     "data": {
      "text/plain": [
       "0.00015447270233862693"
      ]
     },
     "execution_count": 16,
     "metadata": {},
     "output_type": "execute_result"
    }
   ],
   "source": [
    "MMX = 1*12 + 1.8*1 + 0.5*16 + 0.2*14\n",
    "\n",
    "mu_max = 0.12\n",
    "K_M = 0.0004\n",
    "\n",
    "c_S_0 = 5/30\n",
    "c_X_0 = 0.001/MMX\n",
    "c_H_0 = 0/1\n",
    "V_0 = 1\n",
    "\n",
    "V_max = 2.07 #V\n",
    "R = 500 #ohm (so big, r_internal is effec = 0)\n",
    "I_max = V_max/R\n",
    "N_elec_max = I_max/1.60217646e-19\n",
    "F_H_max = N_elec_max/6.022e23\n",
    "r_H_max = F_H_max/((1/60)*(1/60))\n",
    "r_H_max"
   ]
  },
  {
   "cell_type": "markdown",
   "metadata": {},
   "source": [
    "We are now adding an if statement to control the ethanol production. We also have to add another specification to our matrix to keep it square. For the case when the production of hydrogen is less than the maximum production of hydrogen, we add an ethanol specification by setting the production of ethanol to zero, as no ethanol will be produced. But as soon as the maximum rate of hydrogen is reached, we set the production of hydrogen to it's maximum value, allowing ethanol to be produced. We will assume that for every ethanol that is produced, two waters are formed as well. This is a specification we have to incorporate, otherwise we will have a singular matrix and no ethanol production. Thus, in the first matrix, water production is set to zero and in the second matrix water is set to half of that of ethanol."
   ]
  },
  {
   "cell_type": "code",
   "execution_count": 17,
   "metadata": {},
   "outputs": [],
   "source": [
    "def rates(var):\n",
    "    c_S, c_X, c_H, c_E, c_C, c_W, V = var\n",
    "    \n",
    "    mu = mu_max*c_S/(K_M + c_S)\n",
    "#     r_H_max = 0.00001\n",
    "    \n",
    "    S_base = np.matrix([[1,    0,    1,     1,    0,  1,   0],\n",
    "                        [2,    3,    1.8,   0,    1,  3,   2],\n",
    "                        [1,    0,    0.5,   2,    0,  0.5, 1],\n",
    "                        [0,    1,    0.2,   0,    0,  0,   0]])\n",
    "#                       rS,   rA,   rX,    rC,   rH   rE,  rW\n",
    "#                       r[0], r[1], r[2],  r[3], r[4] r[5] r[6]\n",
    "\n",
    "    S_spec = [1, 0, 0, 0, 0, 0, 0] # S0\n",
    "    A_spec = [0, 1, 0, 0, 0, 0, 0] # S1\n",
    "    X_spec = [0, 0, 1, 0, 0, 0, 0] # S2\n",
    "    C_spec = [0, 0, 0, 1, 0, 0, 0] # S3\n",
    "    H_spec = [0, 0, 0, 0, 1, 0, 0] # S4\n",
    "    E_spec = [0, 0, 0, 0, 0, 1, 0] # S5\n",
    "    W_spec = [0, 0, 0, 0, 0, 0, 1]\n",
    "    Add_spec_1 = [0, 0, 0, 0, 0, -1, 0.5]\n",
    "    \n",
    "    S1 = np.vstack([S_base, X_spec, E_spec, W_spec])\n",
    "    C1 = np.array([0, 0, 0, 0, mu, 0, 0]).T\n",
    "    r = np.linalg.solve(S1, C1)\n",
    "    \n",
    "    if r_H_max > r[4]*c_X*V :\n",
    "        return r\n",
    "    \n",
    "    else:\n",
    "        S2 = np.vstack([S_base, X_spec, H_spec, Add_spec_1])\n",
    "        C2 = np.array([0, 0, 0, 0, mu, r_H_max/c_X/V, 0]).T\n",
    "        r = np.linalg.solve(S2, C2)\n",
    "        \n",
    "        return r"
   ]
  },
  {
   "cell_type": "code",
   "execution_count": 18,
   "metadata": {},
   "outputs": [],
   "source": [
    "def ferm(var, t):\n",
    "    c_S, c_X, c_H, c_E, c_C, c_W, V = var\n",
    "    \n",
    "    r_S, r_A, r_X, r_C, r_H, r_E, r_W = rates(var)\n",
    "\n",
    "    dc_Sdt = r_S*c_X\n",
    "    dc_Xdt = r_X*c_X\n",
    "    dc_Hdt = r_H*c_X\n",
    "    dc_Edt = r_E*c_X\n",
    "    dc_Cdt = r_C*c_X\n",
    "    dc_Wdt = r_W*c_X\n",
    "    dVdt = 0\n",
    "    return dc_Sdt, dc_Xdt, dc_Hdt, dc_Edt, dc_Cdt, dc_Wdt, dVdt"
   ]
  },
  {
   "cell_type": "code",
   "execution_count": 19,
   "metadata": {},
   "outputs": [],
   "source": [
    "c_i_0 = [c_S_0, c_X_0, c_H_0, 0, 0, 0, V_0]\n",
    "tspan = np.linspace(0.000001, 80, 101)\n",
    "\n",
    "c_i = odeint(ferm, c_i_0, tspan)\n",
    "c_S, c_X, c_H, c_E, c_C, c_W, V = c_i.T"
   ]
  },
  {
   "cell_type": "code",
   "execution_count": 20,
   "metadata": {},
   "outputs": [],
   "source": [
    "list_rS = []\n",
    "list_rA = []\n",
    "list_rX = []\n",
    "list_rC = []\n",
    "list_rH = []\n",
    "list_rE = []\n",
    "list_rW = []\n",
    "\n",
    "for i in range(0, len(c_S)):\n",
    "    r_S, r_A, r_X, r_C, r_H, r_E, r_W = rates([c_S[i], c_X[i], c_H[i], c_E[i], c_C[i], c_W[i], V[i]])\n",
    "    list_rS.append(r_S)\n",
    "    list_rA.append(r_A)\n",
    "    list_rX.append(r_X)\n",
    "    list_rC.append(r_C)\n",
    "    list_rH.append(r_H)\n",
    "    list_rE.append(r_E)\n",
    "    list_rW.append(r_W)\n",
    "    \n",
    "r_S = np.array(list_rS)\n",
    "r_A = np.array(list_rA)\n",
    "r_X = np.array(list_rX)\n",
    "r_C = np.array(list_rC)\n",
    "r_H = np.array(list_rH)\n",
    "r_E = np.array(list_rE)\n",
    "r_W = np.array(list_rW)"
   ]
  },
  {
   "cell_type": "code",
   "execution_count": 36,
   "metadata": {},
   "outputs": [
    {
     "data": {
      "text/plain": [
       "<matplotlib.legend.Legend at 0x14b34741dd8>"
      ]
     },
     "execution_count": 36,
     "metadata": {},
     "output_type": "execute_result"
    },
    {
     "data": {
      "image/png": "[encoded data removed]",
      "text/plain": [
       "<Figure size 432x288 with 1 Axes>"
      ]
     },
     "metadata": {
      "needs_background": "light"
     },
     "output_type": "display_data"
    }
   ],
   "source": [
    "plt.plot(tspan, c_S*30, label = 'Cs')\n",
    "plt.plot(tspan, c_X*MMX, label = 'Cx')\n",
    "plt.plot(tspan, c_E*46, label = 'Ce')\n",
    "plt.ylabel('Concentration [g/L]')\n",
    "plt.xlabel('Time [h]')\n",
    "plt.legend()"
   ]
  },
  {
   "cell_type": "code",
   "execution_count": 32,
   "metadata": {},
   "outputs": [
    {
     "data": {
      "text/plain": [
       "Text(0.5, 0, 'Time [h]')"
      ]
     },
     "execution_count": 32,
     "metadata": {},
     "output_type": "execute_result"
    },
    {
     "data": {
      "image/png": "[encoded data removed]",
      "text/plain": [
       "<Figure size 432x288 with 1 Axes>"
      ]
     },
     "metadata": {
      "needs_background": "light"
     },
     "output_type": "display_data"
    }
   ],
   "source": [
    "plt.plot(tspan, r_E*46, label = 'r_E')\n",
    "plt.plot(tspan, r_H*1, label = 'r_H')\n",
    "plt.ylabel('Rate [g/(g.h)]')\n",
    "plt.xlabel('Time [h]')"
   ]
  },
  {
   "cell_type": "markdown",
   "metadata": {},
   "source": [
    "In the graph above, we can observe that the fermentation pathway was followed after about 24 hours, when ethanol starts being produced exponentially and the hydrogen concentration becomes a straight line (thus, the production rate of hydrogen stays constant). "
   ]
  },
  {
   "cell_type": "code",
   "execution_count": 24,
   "metadata": {},
   "outputs": [
    {
     "data": {
      "text/plain": [
       "Text(0.5, 0, 'Time [h]')"
      ]
     },
     "execution_count": 24,
     "metadata": {},
     "output_type": "execute_result"
    },
    {
     "data": {
      "image/png": "[encoded data removed]",
      "text/plain": [
       "<Figure size 432x288 with 1 Axes>"
      ]
     },
     "metadata": {
      "needs_background": "light"
     },
     "output_type": "display_data"
    }
   ],
   "source": [
    "F_H = r_H*c_X*V*(1/60)*(1/60)\n",
    "H_atoms = F_H*6.022e23\n",
    "N_electrons = H_atoms\n",
    "Coulomb_per_second = N_electrons*1.60217646e-19\n",
    "\n",
    "Ampere = Coulomb_per_second\n",
    "\n",
    "plt.plot(tspan, Ampere)\n",
    "#plt.plot(tspan, r_E)\n",
    "plt.ylabel('Amperes [A]')\n",
    "plt.xlabel('Time [h]')"
   ]
  },
  {
   "cell_type": "markdown",
   "metadata": {},
   "source": [
    "Finally, we can now see the current produced in the MFC. As we see here, the current increases exponentially for about 26 hours, it then reaches the asymptotic maximum of I_max, which was calculated as 0.00414 A previously. The current produced stays constant until the substrate is depleted, as stated earlier after 67 hours. "
   ]
  }
 ],
 "metadata": {
  "kernelspec": {
   "display_name": "Python 3",
   "language": "python",
   "name": "python3"
  },
  "language_info": {
   "codemirror_mode": {
    "name": "ipython",
    "version": 3
   },
   "file_extension": ".py",
   "mimetype": "text/x-python",
   "name": "python",
   "nbconvert_exporter": "python",
   "pygments_lexer": "ipython3",
   "version": "3.7.0"
  }
 },
 "nbformat": 4,
 "nbformat_minor": 2
}
