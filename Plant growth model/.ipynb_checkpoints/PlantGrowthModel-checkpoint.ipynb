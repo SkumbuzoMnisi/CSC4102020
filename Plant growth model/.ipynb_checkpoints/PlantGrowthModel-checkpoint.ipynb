{
 "cells": [
  {
   "cell_type": "code",
   "execution_count": 1,
   "metadata": {},
   "outputs": [],
   "source": [
    "import numpy\n",
    "from numpy import matrix, array, linspace, linalg, append, log10\n",
    "from scipy.integrate import odeint\n",
    "import matplotlib.pyplot as plt"
   ]
  },
  {
   "cell_type": "markdown",
   "metadata": {},
   "source": [
    "The image illustrates some photons hitting plant-leaf cells. Below the cells is a simplified map of the carbon and nutrient flux. $ \\mathrm{r_1} $ represents the rate of carbon assimilated $via$ photosynthesis. We can define the units as $ \\mathrm{cmol~C~/~(g~chlorophyll~day)} $. Measuring the mass of chlorophyll in a plant is difficult, especially if one wants to keep them alive during the measurement. So to simplify things, lets assume that when the plant grows, it produces chlorophyll at a constant relative rate to other biomass parts, such ars roots and stems. i.e $\\frac{\\Delta g~chlorophyll}{\\Delta g~total~biomass} = constant$. Also, assume the total composition of chlorophyl and biomass remains constant. Thus, we can define $\\mathrm{r_1}$ with units of $ \\mathrm{cmol~C~/~(C~mol~plant)} $"
   ]
  },
  {
   "cell_type": "markdown",
   "metadata": {},
   "source": [
    "<img src=\"PMF.png\" alt=\"Drawing\" style=\"width: 600px;\"/>"
   ]
  },
  {
   "cell_type": "markdown",
   "metadata": {},
   "source": [
    "To begin a model we make further assumptions:<br>\n",
    "<br>\n",
    "* Assume only macro nutrients are absorbed <br>\n",
    "* Leaf surface area, and hence absorbed photons, increases proportionally with increasing plant size \n",
    "* The assimilated carbon is directly proportional to the photosynthetic photon flux density $\\left(\\mathrm{PPFD},~\\mathrm{\\mu mol/A/time}\\right)$ <br>\n",
    "  or the amount of photons available for photosynthesis that strike a unit surface area per unit time.\n",
    "* Let $\\nu$ (nu) equal th the proportionality constant: $r_1 = \\nu~\\mathrm{PPFD}$\n",
    "* No energy is expended in converting the assimilated carbon into biomass (the actual amount is<br> \n",
    "  about 40 % of the total photosynthetic carbon)<br>\n",
    "* Nutrient absorbtion is directly proportional to plant size and follows Michaelis Menten kinetics\n",
    "* The total biomass composition remains constant"
   ]
  },
  {
   "cell_type": "markdown",
   "metadata": {},
   "source": [
    "### Variables <br>\n",
    "<br>\n",
    "$r_1$ : assimilated carbon $\\mathrm{~~~~{cmol~/~day~/~cmolX}}$ <br>\n",
    "$r_2$ : carbon going to biomass $\\mathrm{~~~~{cmol~/~day~/~cmolX}}$ <br>\n",
    "$r_3$ : Exudate carbon $\\mathrm{~~~~{cmol~/~day~/~cmolX}}$ <br>\n",
    "$\\mu$ : Final plant biomass (carbon + nutrients) $\\mathrm{~~~~{cmolX~/~day~/~cmolX}}$ <br>\n",
    "$\\sigma$ : Total nutrient flux $\\mathrm{~~~~{mol~/~day~/~cmolX}}$ <br>"
   ]
  },
  {
   "cell_type": "markdown",
   "metadata": {},
   "source": [
    "### Equations:\n",
    "<br> <br>\n",
    "Michaelis Menten expresion for individual nutrient absorbtion rates $\\left(\\mathrm{mol/day/cmolX}\\right)$, where $C_i$ is the nutrient concentration in solution $\\left(\\mathrm{mol/\\ell}\\right)$: <br>\n",
    "<br>\n",
    "\\begin{equation}\n",
    "r_i = \\frac{r_{i,max}~C_i}{K_M + C_i}\n",
    "\\tag{0.1}\n",
    "\\end{equation}\n",
    "\n",
    "<br>\n",
    "Let $~\\sigma~$ equal the total nutrient absorption rate:\n",
    "<br>\n",
    "\n",
    "\\begin{align}\n",
    "\\sigma = \\sum_{}^{} r_i\n",
    "\\tag{0.2}\n",
    "\\end{align}\n",
    "\n",
    "<br>\n",
    "The average biomass composition:\n",
    "<br>\n",
    "\n",
    "\\begin{align}\n",
    "\\mathrm{C~H_{\\mathit{x}}~O_{\\mathit{y}}~N_{\\mathit{z_1}}~K_{\\mathit{z_2}}~Ca_{\\mathit{z_3}}~S_{\\mathit{z_4}}~Mg_{\\mathit{z_5}}~P_{\\mathit{z_6}}} \n",
    "\\tag{0.3}\n",
    "\\end{align}\n",
    "\n",
    "<br>\n",
    "Let $z$ equal the total nutrient to carbon ratio $\\left(\\mathrm{mol/mol}\\right)$: \n",
    "<br>\n",
    "\n",
    "\\begin{align}\n",
    "z = \\sum_{}^{} z_i\n",
    "\\tag{0.4}\n",
    "\\end{align}\n",
    "\n",
    "<br>\n",
    "Thus, the mass balance may be represented by equation 1 to 3:\n",
    "\n",
    "\\begin{equation}\n",
    "r_1 = \\nu~PPFD\n",
    "\\tag{1}\n",
    "\\end{equation}\n",
    "\n",
    "As $r_2 = \\mu$:\n",
    "\n",
    "\\begin{align}\n",
    "r_1 = \\mu + r_3 \n",
    "\\tag{2}\n",
    "\\end{align}\n",
    "\n",
    "\\begin{align}\n",
    "\\sigma = z~\\mu\n",
    "\\tag{3}\n",
    "\\end{align}"
   ]
  },
  {
   "cell_type": "markdown",
   "metadata": {},
   "source": [
    "### Initial conditions and constants"
   ]
  },
  {
   "cell_type": "code",
   "execution_count": 117,
   "metadata": {},
   "outputs": [],
   "source": [
    "Exo = 0                     ##  initial Exudates                            (cmol)\n",
    "Xo = 1                      ##  initial plant size                          (cmol)\n",
    "Vo = 20                     ##  liquid volume                               (l)\n",
    "pHo = 5                     ##  initial pH          \n",
    "OHo = 10**(pHo - 14)*Vo     ##  initial hydroxide ions                      (mol)\n",
    "Ho = 10**(-pHo)*Vo          ##  initial hydronium ions                      (mol)\n",
    "\n",
    "Nr_max = 0.1                ##  Maximum Nitrogen absorption rate            (mol/day/cmol_plant)\n",
    "Kr_max = 0.04               ##  Maximum Potasium absorption rate            (mol/day/cmol_plant)\n",
    "Car_max = 0.03              ##  Maximum Calcium absorption rate             (mol/day/cmol_plant)\n",
    "Sr_max = 0.01               ##  Maximum Sulphur absorption rate             (mol/day/cmol_plant)\n",
    "Mgr_max = 0.01              ##  Maximum Magnesium absorption rate           (mol/day/cmol_plant)\n",
    "Pr_max = 0.01               ##  Maximum Phosphorus absorption rate          (mol/day/cmol_plant)\n",
    "\n",
    "NO3o = 0.015*Vo             ##  initial Nitrogen                            (mol)\n",
    "NH4o = 0*Vo                 ##  initial Ammonium                            (mol)\n",
    "Ko = 0.006*Vo               ##  initial Potasium                            (mol)\n",
    "Cao = 0.005*Vo              ##  initial Calcium                             (mol)\n",
    "So = 0.002*Vo               ##  initial Sulphate                            (mol)\n",
    "Mgo = 0.002*Vo              ##  initial Magnesium                           (mol)\n",
    "Po = 0.001*Vo               ##  initial Phosphate                           (mol)\n",
    "\n",
    "z1 = 0.1                    ##  Nitrogen to carbon ratio                    (mol/mol)\n",
    "z2 = 0.04                   ##  Potasium to carbon ratio                    (mol/mol)               \n",
    "z3 = 0.03                   ##  Calcium to carbon ratio                     (mol/mol)\n",
    "z4 = 0.01                   ##  Sulphur to carbon ratio                     (mol/mol)\n",
    "z5 = 0.01                   ##  Magnesium to carbon ratio                   (mol/mol)\n",
    "z6 = 0.01                   ##  Phosphorus to carbon ratio                  (mol/mol)\n",
    "\n",
    "PPFD = 300                  ##  photosynthetic photon flux density          (umol/m^2/day)\n",
    "nu = 0.001                  ##  Assimilated carbon to PPFD constant         (cmol.m^2/umol/cmol_plant)  \n",
    "Kw = 10**(-14)              ##  Water equilibrium constant \n",
    "Km = 0.001                  ##  arbitrary Michaelis Menten constant         (mol/l)\n",
    "B = 0.01                    ##  Buffer capacity                             (mol) \n",
    "\n",
    "to = 0                      ##  start time                                  (day)\n",
    "tend = 30                   ##  end time                                    (day)\n",
    "nit = 1000                  ##  number of returned elements                       "
   ]
  },
  {
   "cell_type": "code",
   "execution_count": 118,
   "metadata": {},
   "outputs": [],
   "source": [
    "def Nutrient_adjust(var):                                    ##  Nutrient limitation due to pH\n",
    "    NO3, NH4, K, Ca, S, Mg, P, Ex, X, H, OH, V = var\n",
    "\n",
    "    Hc = H/V\n",
    "    pH = -log10(Hc)\n",
    "    \n",
    "    x = 0.5*pH - 2\n",
    "    xp = -0.5*pH + 4\n",
    "    \n",
    "    if 8 >= pH >= 6:       \n",
    "        \n",
    "        NO3a = NO3\n",
    "        NH4a = NH4\n",
    "        Ka = K\n",
    "        Caa = Ca\n",
    "        Sa = S\n",
    "        Mga = Mg\n",
    "        \n",
    "        Pa = xp*P\n",
    "        \n",
    "    elif 6 > pH >= 4:\n",
    "        \n",
    "        NO3a = x*NO3\n",
    "        NH4a = x*NH4\n",
    "        Ka = x*K\n",
    "        Caa = x*Ca\n",
    "        Sa = x*S\n",
    "        Mga = x*Mg\n",
    "\n",
    "        Pa = P\n",
    "    \n",
    "    else:\n",
    "        \n",
    "        NO3a = 0\n",
    "        NH4a = 0\n",
    "        Ka = 0\n",
    "        Caa = 0\n",
    "        Sa = 0\n",
    "        Mga = 0\n",
    "        Pa = 0                      \n",
    "    \n",
    "    return [NO3a, NH4a, Ka, Caa, Sa, Mga, Pa] \n"
   ]
  },
  {
   "cell_type": "code",
   "execution_count": 119,
   "metadata": {},
   "outputs": [],
   "source": [
    "def res(var):\n",
    "    NO3, NH4, K, Ca, S, Mg, P, Ex, X, H, OH, V = var \n",
    "    \n",
    "    CNO3, CNH4, CK, CCa, CS, CMg, CP = Nutrient_adjust(var)/V   \n",
    "    CN = CNO3 + CNH4\n",
    "    \n",
    "    ra = array([Nr_max*CN/(Km + CN),                             \n",
    "                Kr_max*CK/(Km + CK),\n",
    "                Car_max*CCa/(Km + CCa),\n",
    "                Sr_max*CS/(Km + CS),\n",
    "                Mgr_max*CMg/(Km + CMg),\n",
    "                Pr_max*CP/(Km + CP)])\n",
    "    \n",
    "    ns = array([z1, z2, z3, z4, z5, z6])\n",
    "    z = sum(ns)\n",
    "    rr = array([ra[0]/ns[0], ra[1]/ns[1], ra[2]/ns[2], ra[3]/ns[3], ra[4]/ns[4], ra[5]/ns[5]])\n",
    "    \n",
    "    for i in range(len(rr)):               ##  Corrects for nutrient limitation\n",
    "        if rr[i] == min(rr):\n",
    "\n",
    "            ra = array([rr[i]*ns[0], rr[i]*ns[1], rr[i]*ns[2], rr[i]*ns[3], rr[i]*ns[4], rr[i]*ns[5]])\n",
    "            sigma = sum(ra)\n",
    "            break\n",
    "    \n",
    "    \n",
    "    M = matrix([[1,  0,  0],        # r1, r3, mu\n",
    "                [1, -1, -1],\n",
    "                [0,  0,  z]])        \n",
    "    \n",
    "    c = array([nu*PPFD, 0, sigma])\n",
    "    \n",
    "    ri = linalg.solve(M, c)\n",
    "    \n",
    "    \n",
    "    if ri[1] < 0:                    \n",
    "                    \n",
    "        sigma = z*nu*PPFD \n",
    "        \n",
    "        c = array([nu*PPFD, 0, sigma])\n",
    "        \n",
    "        ri = linalg.solve(M, c)\n",
    "        \n",
    "        ra = array([sigma*z1/z, sigma*z2/z, sigma*z3/z, sigma*z4/z, sigma*z5/z, sigma*z6/z])\n",
    "        \n",
    "    ri = append(ri, ra)\n",
    "\n",
    "    return ri"
   ]
  },
  {
   "cell_type": "code",
   "execution_count": 120,
   "metadata": {},
   "outputs": [],
   "source": [
    "def ebbnflow(var, t):\n",
    "    NO3, NH4, K, Ca, S, Mg, P, Ex, X, H, OH, V = var              \n",
    "    \n",
    "    N = NO3 + NH4\n",
    "    Hc = H/V                         \n",
    "    pH = -log10(Hc)      \n",
    "    \n",
    "    if pH > 8 or pH < 4:\n",
    "        \n",
    "        return [0, 0, 0, 0, 0, 0, 0, 0, 0, 0, 0, 0]\n",
    "    \n",
    "    else:\n",
    "\n",
    "        r = res(var)\n",
    "\n",
    "        dNO3dt = -(NO3/N)*r[3]*X\n",
    "        dNH4dt = -(NH4/N)*r[3]*X\n",
    "        dKdt   = -r[4]*X\n",
    "        dCadt  = -r[5]*X\n",
    "        dSdt   = -r[6]*X\n",
    "        dMgdt  = -r[7]*X\n",
    "        dPdt   = -r[8]*X\n",
    "        dExdt  =  r[1]*X\n",
    "        dXdt   =  r[2]*X\n",
    "        \n",
    "        dOHdt = -(dNO3dt + 2*dSdt + dPdt)\n",
    "        dHdt  = -(dNH4dt + dKdt + 2*dMgdt + 2*dCadt)\n",
    "        \n",
    "        netH  =  dHdt - dOHdt\n",
    "        \n",
    "        dOHdt_soln = -netH*(OH/(OH + H + B))\n",
    "        dHdt_soln  =  netH*(H/(OH + H + B))\n",
    "        \n",
    "        dVdt = 0\n",
    "\n",
    "        return [dNO3dt,\n",
    "                dNH4dt,\n",
    "                dKdt,\n",
    "                dCadt,\n",
    "                dSdt,\n",
    "                dMgdt,\n",
    "                dPdt,\n",
    "                dExdt,\n",
    "                dXdt,\n",
    "                dHdt_soln,\n",
    "                dOHdt_soln,\n",
    "                dVdt]"
   ]
  },
  {
   "cell_type": "code",
   "execution_count": 121,
   "metadata": {},
   "outputs": [],
   "source": [
    "yo = [NO3o, NH4o, Ko, Cao, So, Mgo, Po, Exo, Xo, Ho, OHo, Vo]\n",
    "tsp = linspace(to, tend, nit)\n",
    "C = odeint(ebbnflow, yo, tsp)"
   ]
  },
  {
   "cell_type": "code",
   "execution_count": 122,
   "metadata": {},
   "outputs": [],
   "source": [
    "no3, nh4, k, ca, s, mg, p, ex, x, h, oh, v = C.T\n",
    "ph = -log10(h/v)"
   ]
  },
  {
   "cell_type": "code",
   "execution_count": 123,
   "metadata": {},
   "outputs": [
    {
     "data": {
      "image/png": "[encoded data removed]",
      "text/plain": [
       "<Figure size 432x288 with 1 Axes>"
      ]
     },
     "metadata": {
      "needs_background": "light"
     },
     "output_type": "display_data"
    },
    {
     "data": {
      "text/plain": [
       "3.000000001911279"
      ]
     },
     "execution_count": 123,
     "metadata": {},
     "output_type": "execute_result"
    }
   ],
   "source": [
    "plt.plot(tsp, x)\n",
    "plt.title('Plant cmol')\n",
    "plt.show()\n",
    "max(x)"
   ]
  },
  {
   "cell_type": "code",
   "execution_count": 124,
   "metadata": {},
   "outputs": [
    {
     "data": {
      "image/png": "[encoded data removed]",
      "text/plain": [
       "<Figure size 432x288 with 1 Axes>"
      ]
     },
     "metadata": {
      "needs_background": "light"
     },
     "output_type": "display_data"
    }
   ],
   "source": [
    "plt.plot(tsp, ex/v)\n",
    "plt.title('Exudates conc')\n",
    "plt.show()"
   ]
  },
  {
   "cell_type": "code",
   "execution_count": 128,
   "metadata": {},
   "outputs": [
    {
     "data": {
      "image/png": "[encoded data removed]",
      "text/plain": [
       "<Figure size 432x288 with 1 Axes>"
      ]
     },
     "metadata": {
      "needs_background": "light"
     },
     "output_type": "display_data"
    }
   ],
   "source": [
    "plt.plot(tsp, p/v)\n",
    "plt.show()"
   ]
  },
  {
   "cell_type": "code",
   "execution_count": 126,
   "metadata": {},
   "outputs": [
    {
     "data": {
      "image/png": "[encoded data removed]",
      "text/plain": [
       "<Figure size 432x288 with 1 Axes>"
      ]
     },
     "metadata": {
      "needs_background": "light"
     },
     "output_type": "display_data"
    }
   ],
   "source": [
    "plt.plot(tsp, ph)\n",
    "plt.show()"
   ]
  },
  {
   "cell_type": "code",
   "execution_count": null,
   "metadata": {},
   "outputs": [],
   "source": []
  },
  {
   "cell_type": "code",
   "execution_count": null,
   "metadata": {},
   "outputs": [],
   "source": []
  },
  {
   "cell_type": "code",
   "execution_count": null,
   "metadata": {},
   "outputs": [],
   "source": []
  }
 ],
 "metadata": {
  "kernelspec": {
   "display_name": "Python 3",
   "language": "python",
   "name": "python3"
  },
  "language_info": {
   "codemirror_mode": {
    "name": "ipython",
    "version": 3
   },
   "file_extension": ".py",
   "mimetype": "text/x-python",
   "name": "python",
   "nbconvert_exporter": "python",
   "pygments_lexer": "ipython3",
   "version": "3.7.3"
  }
 },
 "nbformat": 4,
 "nbformat_minor": 2
}
